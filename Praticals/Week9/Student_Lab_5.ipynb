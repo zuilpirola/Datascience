{
  "cells": [
    {
      "cell_type": "markdown",
      "metadata": {
        "id": "CX15zgJ15lF5"
      },
      "source": [
        "# Practical Lab: Week 5\n",
        "\n",
        "Note: This practical session is based on the exercises in section 3.7.10 and 3.7.11"
      ]
    },
    {
      "cell_type": "markdown",
      "metadata": {
        "id": "sGVbeJXtwLIV"
      },
      "source": [
        "First, let's install the packages that we will use in this lab\n",
        "\n",
        "For these exercises we use the numpy library in version 1.22, which is compatible with the ISLP library."
      ]
    },
    {
      "cell_type": "code",
      "execution_count": null,
      "metadata": {
        "id": "mYkmCHPkwBZP"
      },
      "outputs": [],
      "source": [
        "!pip install --force-reinstall -v \"numpy==1.22\"\n",
        "!pip install ISLP"
      ]
    },
    {
      "cell_type": "code",
      "execution_count": 95,
      "metadata": {
        "id": "lOWb8n1mIU1o"
      },
      "outputs": [],
      "source": [
        "import numpy as np\n",
        "import pandas as pd\n",
        "\n",
        "import statsmodels.api as sm\n",
        "import statsmodels.formula.api as smf\n",
        "from ISLP.models import (ModelSpec as MS, summarize , poly)\n",
        "from ISLP import load_data\n",
        "import math"
      ]
    },
    {
      "cell_type": "markdown",
      "metadata": {
        "id": "3SHwiHaWwRHs"
      },
      "source": [
        "If you are using Google Colab, after installing the above packages, restart the terminal."
      ]
    },
    {
      "cell_type": "markdown",
      "metadata": {
        "id": "YhrFj06lXDBM"
      },
      "source": [
        "# 3.7.10 - Carseats Dataset"
      ]
    },
    {
      "cell_type": "markdown",
      "metadata": {
        "id": "ZNqWxTbn4kfq"
      },
      "source": [
        "source: https://rdrr.io/cran/ISLR/man/Carseats.html"
      ]
    },
    {
      "cell_type": "markdown",
      "metadata": {
        "id": "R82Z45dgv8cY"
      },
      "source": [
        "1 - Fit a multiple regression model to predict Sales using Price,\n",
        "Urban, and US."
      ]
    },
    {
      "cell_type": "code",
      "execution_count": 35,
      "metadata": {
        "colab": {
          "base_uri": "https://localhost:8080/"
        },
        "id": "f8KAWE16XGBy",
        "outputId": "37c46590-0329-46ed-926f-051d9e8bde87"
      },
      "outputs": [
        {
          "name": "stdout",
          "output_type": "stream",
          "text": [
            "<class 'pandas.core.frame.DataFrame'>\n",
            "RangeIndex: 400 entries, 0 to 399\n",
            "Data columns (total 11 columns):\n",
            " #   Column       Non-Null Count  Dtype   \n",
            "---  ------       --------------  -----   \n",
            " 0   Sales        400 non-null    float64 \n",
            " 1   CompPrice    400 non-null    int64   \n",
            " 2   Income       400 non-null    int64   \n",
            " 3   Advertising  400 non-null    int64   \n",
            " 4   Population   400 non-null    int64   \n",
            " 5   Price        400 non-null    int64   \n",
            " 6   ShelveLoc    400 non-null    category\n",
            " 7   Age          400 non-null    int64   \n",
            " 8   Education    400 non-null    int64   \n",
            " 9   Urban        400 non-null    category\n",
            " 10  US           400 non-null    category\n",
            "dtypes: category(3), float64(1), int64(7)\n",
            "memory usage: 26.7 KB\n"
          ]
        }
      ],
      "source": [
        "car = load_data(\"Carseats\")\n",
        "car.columns\n",
        "\n",
        "car.info()"
      ]
    },
    {
      "cell_type": "code",
      "execution_count": null,
      "metadata": {
        "colab": {
          "base_uri": "https://localhost:8080/",
          "height": 346
        },
        "id": "YZvG0iXTS-1Z",
        "outputId": "f5444642-c9c7-479d-9613-495143de4b76"
      },
      "outputs": [],
      "source": []
    },
    {
      "cell_type": "markdown",
      "metadata": {
        "id": "jW6-BXJr2L51"
      },
      "source": [
        "2 - Provide an interpretation of each coefficient in the model. Be\n",
        "careful—some of the variables in the model are qualitative!"
      ]
    },
    {
      "cell_type": "code",
      "execution_count": null,
      "metadata": {
        "id": "1jzMGbgT2P_j"
      },
      "outputs": [],
      "source": []
    },
    {
      "cell_type": "markdown",
      "metadata": {
        "id": "tg8SWYG24OZn"
      },
      "source": [
        "3 - Write out the model in equation form, being careful to handle the qualitative variables properly."
      ]
    },
    {
      "cell_type": "code",
      "execution_count": null,
      "metadata": {
        "id": "wLvku3gS4Nlz"
      },
      "outputs": [],
      "source": []
    },
    {
      "cell_type": "markdown",
      "metadata": {
        "id": "6xjrk_4h9Zki"
      },
      "source": [
        "4 - For which of the predictors can you reject the null hypothesis $H_0 : \\beta_j =0$?"
      ]
    },
    {
      "cell_type": "code",
      "execution_count": null,
      "metadata": {
        "id": "ygONVy2O9cCO"
      },
      "outputs": [],
      "source": []
    },
    {
      "cell_type": "markdown",
      "metadata": {
        "id": "cz6TIUAy-CPV"
      },
      "source": [
        "5 - On the basis of your response to the previous question, fit a smaller model that only uses the predictors for which there is evidence of association with the outcome."
      ]
    },
    {
      "cell_type": "code",
      "execution_count": null,
      "metadata": {
        "colab": {
          "base_uri": "https://localhost:8080/"
        },
        "id": "OGSiBAsJ-Egq",
        "outputId": "43c315df-3805-4255-8686-7209151ca71c"
      },
      "outputs": [],
      "source": []
    },
    {
      "cell_type": "markdown",
      "metadata": {
        "id": "o_tZ3Aw9-VtQ"
      },
      "source": [
        "6 - How well do the models in Questions 1 and 5 fit the data? (Use Residual standard error and $R^2$ formulas)"
      ]
    },
    {
      "cell_type": "code",
      "execution_count": null,
      "metadata": {
        "colab": {
          "base_uri": "https://localhost:8080/"
        },
        "id": "TYoaJf6v-Xda",
        "outputId": "010f3318-8505-4353-b688-77e44cc5ff1e"
      },
      "outputs": [],
      "source": [
        "\n"
      ]
    },
    {
      "cell_type": "markdown",
      "metadata": {
        "id": "nPavbeKn-8Y_"
      },
      "source": [
        "7 - Using the model from Question 6, obtain 95% confidence intervals for the coefficient(s)."
      ]
    },
    {
      "cell_type": "code",
      "execution_count": null,
      "metadata": {
        "colab": {
          "base_uri": "https://localhost:8080/",
          "height": 160
        },
        "id": "D7KqOKXE--na",
        "outputId": "609832f4-d193-4869-e938-748a4cbe4655"
      },
      "outputs": [],
      "source": []
    },
    {
      "cell_type": "markdown",
      "metadata": {
        "id": "uoFIg1j7AM7c"
      },
      "source": [
        "8 - Is there evidence of outliers or high leverage observations in the model from Question 5?"
      ]
    },
    {
      "cell_type": "code",
      "execution_count": null,
      "metadata": {
        "colab": {
          "base_uri": "https://localhost:8080/",
          "height": 433
        },
        "id": "HpRabC08AOsd",
        "outputId": "a3ddd5b3-2dc6-45fc-eb61-fe1c644b34a4"
      },
      "outputs": [],
      "source": []
    },
    {
      "cell_type": "markdown",
      "metadata": {
        "id": "btKAbKXUICm7"
      },
      "source": [
        "# 3.7.11 - Random Dataset"
      ]
    },
    {
      "cell_type": "code",
      "execution_count": 124,
      "metadata": {
        "id": "CxVDOCebIFm-"
      },
      "outputs": [],
      "source": [
        "rng = np.random.default_rng(1)\n",
        "x = rng.normal(size=100)\n",
        "y = 2 * x + rng.normal(size=100)"
      ]
    },
    {
      "cell_type": "markdown",
      "metadata": {
        "id": "ZCIqc7K8J2Yv"
      },
      "source": [
        "1 - Perform a simple linear regression of y onto x, without an intercept. Report the coefficient estimate $\\hat{\\beta}$, the standard error of this coefficient estimate, and the t-statistic and p-value associated with the null hypothesis $H_0 : \\beta = 0$. Comment on these results. (You can perform regression without an intercept using the keywords argument intercept=False to ModelSpec().)"
      ]
    },
    {
      "cell_type": "code",
      "execution_count": null,
      "metadata": {
        "colab": {
          "base_uri": "https://localhost:8080/",
          "height": 433
        },
        "id": "srDHJmadINT1",
        "outputId": "b23f19d9-6d0a-4a0d-d3eb-7bfbf19f95ca"
      },
      "outputs": [],
      "source": []
    },
    {
      "cell_type": "markdown",
      "metadata": {
        "id": "b1kqXiyIOrzh"
      },
      "source": [
        "2 - Now perform a simple linear regression of x onto y without an intercept, and report the coefficient estimate, its standard error, and the corresponding t-statistic and p-values associated with the null hypothesis H0 : β = 0. Comment on these results."
      ]
    },
    {
      "cell_type": "code",
      "execution_count": null,
      "metadata": {
        "colab": {
          "base_uri": "https://localhost:8080/",
          "height": 470
        },
        "id": "WPfNj63gQaqS",
        "outputId": "f5489c16-cce4-4ce1-cf4b-d7e7609e0abe"
      },
      "outputs": [],
      "source": []
    },
    {
      "cell_type": "markdown",
      "metadata": {
        "id": "_4ji6IfyQOL1"
      },
      "source": [
        "3 - What is the relationship between the results obtained in (1) and (2)?"
      ]
    },
    {
      "cell_type": "code",
      "execution_count": null,
      "metadata": {
        "id": "0ub71PcGPr6C"
      },
      "outputs": [],
      "source": []
    }
  ],
  "metadata": {
    "colab": {
      "provenance": []
    },
    "kernelspec": {
      "display_name": "Python 3",
      "name": "python3"
    },
    "language_info": {
      "name": "python"
    }
  },
  "nbformat": 4,
  "nbformat_minor": 0
}
