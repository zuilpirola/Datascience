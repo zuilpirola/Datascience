{
  "cells": [
    {
      "cell_type": "markdown",
      "metadata": {
        "id": "CLTldup4laHF"
      },
      "source": [
        "# Lab 2 - Rectangular data and Pandas\n",
        "\n",
        "## Purpose\n",
        "Give an introduction to  \n",
        "* Jupyter Notebook\n",
        "* Rectangular data\n",
        "* Variables and records\n",
        "* Independent and dependent variables\n",
        "* Pandas and Numpy Libraries\n",
        "* Exploratory Data Analysis\n",
        "\n",
        "## Methodology\n",
        "We will be using the Pandas library to load a dataset, perform operation and conduct some data analysis. Some challenges are presented at the end.\n",
        "\n",
        "## Results\n",
        "Some knowledge on how to load, write and manipulate rectangular data in Python. First hands on real data.\n",
        "\n",
        "## Suggested next steps\n",
        "Explore different types of data visualizations. Check [Python Graph Gallery](https://www.python-graph-gallery.com/) for ideas. This will be the topic of next week.\n"
      ]
    },
    {
      "cell_type": "markdown",
      "metadata": {
        "id": "SRHAgztLT8-s"
      },
      "source": [
        "# Jupyter Notebooks\n",
        "\n",
        "Anaconda will be our preference as a Python environment manager. If you haven't done it already, [install](https://www.anaconda.com/) it and follow the `intructions.md` file of the first week (available in moodle).\n",
        "\n",
        "Jupyter Lab/Notebooks will be our IDE of preference.\n",
        "\n",
        "Jupyter Notebooks are composed by Cells.\n",
        "\n",
        "Cells can be either Markdown or Code.  \n",
        "\n",
        "- Markdown cells allows us to write text, formulae, add images and explain things in the same way we would do in a normal notebook. Here is a [cheat sheet](https://guides.github.com/pdfs/markdown-cheatsheet-online.pdf) for Markdown Sintax.\n",
        "\n",
        "- Code Cells allows us to execute code.\n",
        "\n",
        "Here is a Jupyter Notebook commands [cheat sheet](https://www.edureka.co/blog/wp-content/uploads/2018/10/Jupyter_Notebook_CheatSheet_Edureka.pdf) although you can also use the Help tab.\n",
        "\n",
        "Useful Jupyter Notebook shortcuts:\n",
        "- Esc and Enter to toggle between edit mode (notice how the colour of the cell on the left changes)\n",
        "- A - new cell after current cell\n",
        "- B - new cell before current cell\n",
        "- Shit + Enter - execute cell and go to the next\n",
        "- Ctrl + Enter - execute cell and remain on current\n",
        "- DD - delete cell\n",
        "- Z  - undo deleted"
      ]
    },
    {
      "cell_type": "markdown",
      "metadata": {
        "id": "xqPLrLWnT8-t"
      },
      "source": [
        "## Numpy"
      ]
    },
    {
      "cell_type": "code",
      "execution_count": null,
      "metadata": {
        "id": "y962c4MfT8-t"
      },
      "outputs": [],
      "source": [
        "import numpy as np"
      ]
    },
    {
      "cell_type": "markdown",
      "metadata": {
        "id": "1KW4cqvzT8-u"
      },
      "source": [
        "Numpy is the core library for scientific computing in Python. It provides a high-performance multidimensional array object, and tools for working with these arrays. Also, it offers comprehensive mathematical functions, random number generators, linear algebra routines, Fourier transforms, and more."
      ]
    },
    {
      "cell_type": "markdown",
      "metadata": {
        "id": "l8nXutuLT8-v"
      },
      "source": [
        "## Before moving forward"
      ]
    },
    {
      "cell_type": "markdown",
      "metadata": {
        "id": "rTjgovn_T8-w"
      },
      "source": [
        "Explore Numpy `dot` function"
      ]
    },
    {
      "cell_type": "code",
      "execution_count": null,
      "metadata": {
        "id": "oMMDsL9PT8-w",
        "outputId": "61a57358-6268-4089-beb1-a7885e34a2b5"
      },
      "outputs": [
        {
          "data": {
            "text/plain": [
              "38"
            ]
          },
          "execution_count": 6,
          "metadata": {},
          "output_type": "execute_result"
        }
      ],
      "source": [
        "v1 = [1,2,3,4]\n",
        "v2 = [3,2,5,4]\n",
        "\n",
        "# \"np\" is the alias for numpy library when imported like 'import numpy as np'\n",
        "# print the dot product of v1 and v2 using numpy\n",
        "# compare with the dot function you did in the last class\n"
      ]
    },
    {
      "cell_type": "markdown",
      "metadata": {
        "id": "rAUKq1X_T8-x"
      },
      "source": [
        "You can check [`numpy documentation`](https://numpy.org/doc/stable/reference/generated/numpy.dot.html) or use the `help` function to understand more about any function"
      ]
    },
    {
      "cell_type": "code",
      "execution_count": null,
      "metadata": {
        "id": "Rcy8zxYNT8-x"
      },
      "outputs": [],
      "source": [
        "help(np.dot)"
      ]
    },
    {
      "cell_type": "markdown",
      "metadata": {
        "id": "whwUIGmfT8-y"
      },
      "source": [
        "Explore Numpy functions `linalg.norm` to obtain the magnitude/norm of the vectors `v1` and `v2`"
      ]
    },
    {
      "cell_type": "code",
      "execution_count": null,
      "metadata": {
        "id": "sgBWAS7mT8-y"
      },
      "outputs": [],
      "source": [
        "# compare with the norm function you did in the last class"
      ]
    },
    {
      "cell_type": "markdown",
      "metadata": {
        "id": "5nrhNunST8-y"
      },
      "source": [
        "Consider the cosine similarity function we build from scrach last week:\n",
        "\n",
        "$$\n",
        "  cos(v1, v2) = \\frac{v1 . v2}{\\lVert v1 \\rVert \\times \\lVert v2 \\rVert}\n",
        "$$\n",
        "\n",
        "Explore Numpy functions `linalg.norm` e `dot` and **re-write the cosine function** below without using a `for` loop."
      ]
    },
    {
      "cell_type": "code",
      "execution_count": null,
      "metadata": {
        "id": "zi0Nhwm7T8-y"
      },
      "outputs": [],
      "source": []
    },
    {
      "cell_type": "markdown",
      "metadata": {
        "id": "PWyZV1fCT8-y"
      },
      "source": [
        "## Rectangular data\n",
        "\n",
        "A lot of the datasets we study in Data Science are rectangular, like a spreadsheet or database table. This means that we have a  `n` and `m` columns.\n",
        "\n",
        "* A **column** in the table is commonly referred to as a **variable**.\n",
        "    * You may also see them refered as: attribute, input, predictor or feature\n",
        "* A **row** in the table is commonly referred to as a **record**.\n",
        "    * You may also see them refered as: case, example, instance, observation, pattern or sample\n",
        "\n",
        "\n",
        "<details>\n",
        "<p>\n",
        "\n",
        "> Rectangular data is essentially a two-dimensional matrix with rows indicating records and columns indicating variables\n",
        "> -- <cite>[Peter Bruce, Andrew Bruce @ Practical Statistics for Data Scientists][3]</cite>\n",
        "\n",
        "[3]: https://www.oreilly.com/library/view/practical-statistics-for/9781491952955/ch01.html\n",
        "\n",
        "</p>\n",
        "</details>\n",
        "\n",
        "What are independent and dependent variables?  \n",
        "\n",
        "<details>\n",
        "<p>\n",
        "    \n",
        "- An **independent variable** is the variable that is changed or controlled in a scientific experiment to test the effects on the dependent variable.  \n",
        "    \n",
        "- A **dependent variable** is the variable being tested and measured in a scientific experiment.\n",
        "    \n",
        "</p>\n",
        "</details>\n",
        "\n",
        "Very often what we want to do in data science is to explain how the independent variables can control the dependent variable.\n",
        "\n",
        "What other names are given to these variables?\n",
        "\n",
        "<details>\n",
        "<p>\n",
        "\n",
        "> an **independent variable** is sometimes called a \"predictor variable\", regressor, covariate, \"manipulated variable\", \"explanatory variable\", exposure variable (see reliability theory), \"risk factor\" (see medical statistics), \"feature\" (in machine learning and pattern recognition) or \"input variable\".\n",
        "> -- <cite>[Wikipedia][4]</cite>\n",
        "    \n",
        "> a **dependent variable** is sometimes called a \"response variable\", \"regressand\", \"criterion\", \"predicted variable\", \"measured variable\", \"explained variable\", \"experimental variable\", \"responding variable\", \"outcome variable\", \"output variable\", \"target\" or \"label\".\n",
        "> -- <cite>[Wikipedia][4]</cite>\n",
        "\n",
        "[4]: https://en.wikipedia.org/wiki/Dependent_and_independent_variables#Statistics_synonyms\n",
        "\n",
        "\n",
        "    \n",
        "</p>\n",
        "</details>"
      ]
    },
    {
      "cell_type": "markdown",
      "metadata": {
        "id": "mPF4T6HBT8-z"
      },
      "source": [
        "## Pandas"
      ]
    },
    {
      "cell_type": "code",
      "execution_count": null,
      "metadata": {
        "id": "qjdbh_VqT8-z"
      },
      "outputs": [],
      "source": [
        "import pandas as pd"
      ]
    },
    {
      "cell_type": "markdown",
      "metadata": {
        "id": "6VXEaH6CT8-z"
      },
      "source": [
        "What is Pandas?\n",
        "\n",
        "<details>\n",
        "<p>\n",
        "\n",
        "> Pandas is seriously a game changer when it comes to cleaning, transforming, manipulating and analyzing data. In simple terms, Pandas helps to clean the mess\n",
        "> -- <cite>[Admond Lee][1]</cite>\n",
        "\n",
        "[1]: https://towardsdatascience.com/why-and-how-to-use-pandas-with-large-data-9594dda2ea4c\n",
        "\n",
        "</p>\n",
        "</details>\n",
        "\n",
        "Have a look at the Pandas documentation\n",
        "\n",
        "<details>\n",
        "<p>\n",
        "\n",
        "> `pandas` is a fast, powerful, flexible and easy to use open source data analysis and manipulation tool,\n",
        "built on top of the Python programming language.\n",
        "> -- <cite>[pandas library][2]</cite>\n",
        "\n",
        "[2]: https://pandas.pydata.org/\n",
        "\n",
        "</p>\n",
        "\n",
        "- API reference: https://pandas.pydata.org/docs/reference/index.html#api"
      ]
    },
    {
      "cell_type": "markdown",
      "metadata": {
        "id": "oHO1g74sT8-0"
      },
      "source": [
        "### Lets use Pandas to create a retangular dataset\n",
        "\n",
        "The DataFrame object is a 2-dimensional labeled data structure with columns of potentially different types. You can think of it like a spreadsheet or SQL table. It is generally the most commonly used pandas object.\n",
        "\n",
        "#### Constructing DataFrame\n",
        "\n",
        "A Pandas DataFrame can be constructed in a variety of ways.\n",
        "\n",
        "One of them is from a list of dicts:"
      ]
    },
    {
      "cell_type": "markdown",
      "metadata": {
        "id": "O_RXhB10T8-0"
      },
      "source": [
        "Let's create a DataFrame from a list of dictionaries. Each dictionary represents a record and the keys represent the variables.\n",
        "\n",
        "Desired DataFrame:\n",
        "\n",
        "```python\n",
        "     a\tb\n",
        "0\t0\t0\n",
        "1\t1\t2\n",
        "2\t2\t4\n",
        "```\n",
        "\n"
      ]
    },
    {
      "cell_type": "code",
      "execution_count": null,
      "metadata": {
        "id": "rF98016wT8-0",
        "outputId": "d3bd1b34-e1e4-4ef2-9690-b48fcbd427a6"
      },
      "outputs": [
        {
          "data": {
            "text/html": [
              "<div>\n",
              "<style scoped>\n",
              "    .dataframe tbody tr th:only-of-type {\n",
              "        vertical-align: middle;\n",
              "    }\n",
              "\n",
              "    .dataframe tbody tr th {\n",
              "        vertical-align: top;\n",
              "    }\n",
              "\n",
              "    .dataframe thead th {\n",
              "        text-align: right;\n",
              "    }\n",
              "</style>\n",
              "<table border=\"1\" class=\"dataframe\">\n",
              "  <thead>\n",
              "    <tr style=\"text-align: right;\">\n",
              "      <th></th>\n",
              "      <th>a</th>\n",
              "      <th>b</th>\n",
              "    </tr>\n",
              "  </thead>\n",
              "  <tbody>\n",
              "    <tr>\n",
              "      <th>0</th>\n",
              "      <td>0</td>\n",
              "      <td>0</td>\n",
              "    </tr>\n",
              "    <tr>\n",
              "      <th>1</th>\n",
              "      <td>1</td>\n",
              "      <td>1</td>\n",
              "    </tr>\n",
              "    <tr>\n",
              "      <th>2</th>\n",
              "      <td>2</td>\n",
              "      <td>4</td>\n",
              "    </tr>\n",
              "  </tbody>\n",
              "</table>\n",
              "</div>"
            ],
            "text/plain": [
              "   a  b\n",
              "0  0  0\n",
              "1  1  1\n",
              "2  2  4"
            ]
          },
          "execution_count": 10,
          "metadata": {},
          "output_type": "execute_result"
        }
      ],
      "source": [
        "# create dataframe from a list of dictionaries to obtain the following output\n",
        "#    a  b\n",
        "# 0  0  0\n",
        "# 1  1  2\n",
        "# 2  2  4\n",
        "\n",
        "# what should the items in the list be to obtain the output above?\n",
        "data = []\n",
        "\n",
        "# use pd.DataFrame to create a dataframe from the \"data\""
      ]
    },
    {
      "cell_type": "markdown",
      "metadata": {
        "id": "lEIKhiJET8-0"
      },
      "source": [
        "Pandas creates tabular data structures called DataFrames and missing values are represented as `NaN` (**Not a Number**)\n",
        "- if you don't provide values for a column, pandas will fill it with `NaN`\n",
        "- Handling missing values is a big part of data cleaning and preparation process and defining strategies to deal with them are really important."
      ]
    },
    {
      "cell_type": "code",
      "execution_count": null,
      "metadata": {
        "id": "51nlD2j7T8-0"
      },
      "outputs": [],
      "source": [
        "df = pd.DataFrame([{'a': 1, 'b': 2}, {'b': 3, 'c': 4}])"
      ]
    },
    {
      "cell_type": "code",
      "execution_count": null,
      "metadata": {
        "id": "vh1bboOHT8-1",
        "outputId": "bcba553d-d4f7-42a1-957f-693928cc0ef0"
      },
      "outputs": [
        {
          "data": {
            "text/html": [
              "<div>\n",
              "<style scoped>\n",
              "    .dataframe tbody tr th:only-of-type {\n",
              "        vertical-align: middle;\n",
              "    }\n",
              "\n",
              "    .dataframe tbody tr th {\n",
              "        vertical-align: top;\n",
              "    }\n",
              "\n",
              "    .dataframe thead th {\n",
              "        text-align: right;\n",
              "    }\n",
              "</style>\n",
              "<table border=\"1\" class=\"dataframe\">\n",
              "  <thead>\n",
              "    <tr style=\"text-align: right;\">\n",
              "      <th></th>\n",
              "      <th>a</th>\n",
              "      <th>b</th>\n",
              "      <th>c</th>\n",
              "    </tr>\n",
              "  </thead>\n",
              "  <tbody>\n",
              "    <tr>\n",
              "      <th>0</th>\n",
              "      <td>1.0</td>\n",
              "      <td>2</td>\n",
              "      <td>NaN</td>\n",
              "    </tr>\n",
              "    <tr>\n",
              "      <th>1</th>\n",
              "      <td>NaN</td>\n",
              "      <td>3</td>\n",
              "      <td>4.0</td>\n",
              "    </tr>\n",
              "  </tbody>\n",
              "</table>\n",
              "</div>"
            ],
            "text/plain": [
              "     a  b    c\n",
              "0  1.0  2  NaN\n",
              "1  NaN  3  4.0"
            ]
          },
          "execution_count": 41,
          "metadata": {},
          "output_type": "execute_result"
        }
      ],
      "source": []
    },
    {
      "cell_type": "markdown",
      "metadata": {
        "id": "iscOEweKT8-1"
      },
      "source": [
        "A DataFrame object has has an `index` and a `column` attribute\n",
        "- `index` indicates the start, end (exclusive) and increment of the row indices"
      ]
    },
    {
      "cell_type": "code",
      "execution_count": null,
      "metadata": {
        "id": "PuBYec5HT8-1",
        "outputId": "1c7a0883-9f1a-4201-9666-1190ec03a97c"
      },
      "outputs": [
        {
          "data": {
            "text/plain": [
              "RangeIndex(start=0, stop=2, step=1)"
            ]
          },
          "execution_count": 19,
          "metadata": {},
          "output_type": "execute_result"
        }
      ],
      "source": []
    },
    {
      "cell_type": "markdown",
      "metadata": {
        "id": "jo2PbHYoT8-1"
      },
      "source": [
        "- `columns` indicates the **column names** of the DataFrame and can be used to access columns"
      ]
    },
    {
      "cell_type": "code",
      "execution_count": null,
      "metadata": {
        "id": "2iN0IlBGT8-1"
      },
      "outputs": [],
      "source": []
    },
    {
      "cell_type": "markdown",
      "metadata": {
        "id": "sLO-ShLZT8-2"
      },
      "source": [
        "**Casting to other data types** may help when working with those columns, try casting `df.columns` to a list"
      ]
    },
    {
      "cell_type": "code",
      "execution_count": null,
      "metadata": {
        "id": "hpmS_dO8T8-2",
        "outputId": "a49af329-7ac0-42eb-c47e-5b5e6d72202c"
      },
      "outputs": [
        {
          "data": {
            "text/plain": [
              "['a', 'b', 'c']"
            ]
          },
          "execution_count": 21,
          "metadata": {},
          "output_type": "execute_result"
        }
      ],
      "source": []
    },
    {
      "cell_type": "markdown",
      "metadata": {
        "id": "pQ25yQz-T8-2"
      },
      "source": [
        "We can **rename** columns using the `rename` method\n",
        "\n",
        "- Note that the columns were defined by the dictionary keys\n",
        "- `inplace=True` will modify the DataFrame **in place**, otherwise a new DataFrame will be returned and the original will remain unchanged\n"
      ]
    },
    {
      "cell_type": "code",
      "execution_count": null,
      "metadata": {
        "id": "H41uUEX7T8-2"
      },
      "outputs": [],
      "source": [
        "# before:\n",
        "df = pd.DataFrame([{'a': 1, 'b': 2}, {'b': 3, 'c': 4}])"
      ]
    },
    {
      "cell_type": "code",
      "execution_count": null,
      "metadata": {
        "id": "Vwe44XkoT8-2",
        "outputId": "2290b78e-23e1-452c-f666-bc42ffca1c64"
      },
      "outputs": [
        {
          "data": {
            "text/html": [
              "<div>\n",
              "<style scoped>\n",
              "    .dataframe tbody tr th:only-of-type {\n",
              "        vertical-align: middle;\n",
              "    }\n",
              "\n",
              "    .dataframe tbody tr th {\n",
              "        vertical-align: top;\n",
              "    }\n",
              "\n",
              "    .dataframe thead th {\n",
              "        text-align: right;\n",
              "    }\n",
              "</style>\n",
              "<table border=\"1\" class=\"dataframe\">\n",
              "  <thead>\n",
              "    <tr style=\"text-align: right;\">\n",
              "      <th></th>\n",
              "      <th>data</th>\n",
              "      <th>science</th>\n",
              "      <th>c</th>\n",
              "    </tr>\n",
              "  </thead>\n",
              "  <tbody>\n",
              "    <tr>\n",
              "      <th>0</th>\n",
              "      <td>1.0</td>\n",
              "      <td>2</td>\n",
              "      <td>NaN</td>\n",
              "    </tr>\n",
              "    <tr>\n",
              "      <th>1</th>\n",
              "      <td>NaN</td>\n",
              "      <td>3</td>\n",
              "      <td>4.0</td>\n",
              "    </tr>\n",
              "  </tbody>\n",
              "</table>\n",
              "</div>"
            ],
            "text/plain": [
              "   data  science    c\n",
              "0   1.0        2  NaN\n",
              "1   NaN        3  4.0"
            ]
          },
          "execution_count": 42,
          "metadata": {},
          "output_type": "execute_result"
        }
      ],
      "source": [
        "# after - use rename to rename the columns 'a' to 'data' and 'b' to 'science'\n",
        "\n"
      ]
    },
    {
      "cell_type": "markdown",
      "metadata": {
        "id": "MXGMdRkUT8-2"
      },
      "source": [
        "#### Creating your own DataFrame\n",
        "\n",
        "Before learning more details and operations on DataFrames, lets create our own."
      ]
    },
    {
      "cell_type": "code",
      "execution_count": null,
      "metadata": {
        "id": "JzIK0bj-T8-3",
        "outputId": "20c5da1d-8253-4e1b-fd35-5bdf1ded60e0"
      },
      "outputs": [
        {
          "data": {
            "text/html": [
              "<div>\n",
              "<style scoped>\n",
              "    .dataframe tbody tr th:only-of-type {\n",
              "        vertical-align: middle;\n",
              "    }\n",
              "\n",
              "    .dataframe tbody tr th {\n",
              "        vertical-align: top;\n",
              "    }\n",
              "\n",
              "    .dataframe thead th {\n",
              "        text-align: right;\n",
              "    }\n",
              "</style>\n",
              "<table border=\"1\" class=\"dataframe\">\n",
              "  <thead>\n",
              "    <tr style=\"text-align: right;\">\n",
              "      <th></th>\n",
              "      <th>name</th>\n",
              "      <th>shoe</th>\n",
              "      <th>height</th>\n",
              "    </tr>\n",
              "  </thead>\n",
              "  <tbody>\n",
              "    <tr>\n",
              "      <th>0</th>\n",
              "      <td>ana</td>\n",
              "      <td>38</td>\n",
              "      <td>168</td>\n",
              "    </tr>\n",
              "    <tr>\n",
              "      <th>1</th>\n",
              "      <td>bruno</td>\n",
              "      <td>39</td>\n",
              "      <td>170</td>\n",
              "    </tr>\n",
              "    <tr>\n",
              "      <th>2</th>\n",
              "      <td>carlos</td>\n",
              "      <td>42</td>\n",
              "      <td>174</td>\n",
              "    </tr>\n",
              "  </tbody>\n",
              "</table>\n",
              "</div>"
            ],
            "text/plain": [
              "     name  shoe  height\n",
              "0     ana    38     168\n",
              "1   bruno    39     170\n",
              "2  carlos    42     174"
            ]
          },
          "execution_count": 43,
          "metadata": {},
          "output_type": "execute_result"
        }
      ],
      "source": [
        "#       name\tshoe\theight\n",
        "#   0\tana\t    38  \t  168\n",
        "#   1\tbruno   39\t    170\n",
        "#   2\tcarlos\t42\t    174\n",
        "\n",
        "name_list = []\n",
        "shoe_list = []\n",
        "height_list = []\n",
        "gender_list = []\n",
        "\n",
        "# we are going to create a dataframe from the lists above - what should be the \"keys\" and \"values\" of the dictionary?\n",
        "students_df = pd.DataFrame({})\n",
        "students_df"
      ]
    },
    {
      "cell_type": "markdown",
      "metadata": {
        "id": "t4FRVwMyT8-3"
      },
      "source": [
        "Print the `columns` of the DataFrame"
      ]
    },
    {
      "cell_type": "code",
      "execution_count": null,
      "metadata": {
        "id": "yvWC5kY2T8-3",
        "outputId": "0f87008e-94a4-43ff-8510-23fcad6edd5c"
      },
      "outputs": [
        {
          "data": {
            "text/plain": [
              "Index(['name', 'shoe', 'height', 'gender'], dtype='object')"
            ]
          },
          "execution_count": 48,
          "metadata": {},
          "output_type": "execute_result"
        }
      ],
      "source": []
    },
    {
      "cell_type": "markdown",
      "metadata": {
        "id": "GEPRmKXiT8-3"
      },
      "source": [
        "Print the `index` of the DataFrame"
      ]
    },
    {
      "cell_type": "code",
      "execution_count": null,
      "metadata": {
        "id": "ZrAaFy5BT8-3",
        "outputId": "96fbb36a-424a-4e79-8e88-4c718459ed55"
      },
      "outputs": [
        {
          "data": {
            "text/plain": [
              "RangeIndex(start=0, stop=3, step=1)"
            ]
          },
          "execution_count": 49,
          "metadata": {},
          "output_type": "execute_result"
        }
      ],
      "source": []
    },
    {
      "cell_type": "markdown",
      "metadata": {
        "id": "6REE85w7T8-4"
      },
      "source": [
        "We forgot the **gender data**. This is how we can add a new column to the DataFrame after it has been created"
      ]
    },
    {
      "cell_type": "code",
      "execution_count": null,
      "metadata": {
        "id": "h7JxRpHDT8-4",
        "outputId": "2189a2b9-a913-4dfd-c9d6-c72d90a674ed"
      },
      "outputs": [
        {
          "data": {
            "text/html": [
              "<div>\n",
              "<style scoped>\n",
              "    .dataframe tbody tr th:only-of-type {\n",
              "        vertical-align: middle;\n",
              "    }\n",
              "\n",
              "    .dataframe tbody tr th {\n",
              "        vertical-align: top;\n",
              "    }\n",
              "\n",
              "    .dataframe thead th {\n",
              "        text-align: right;\n",
              "    }\n",
              "</style>\n",
              "<table border=\"1\" class=\"dataframe\">\n",
              "  <thead>\n",
              "    <tr style=\"text-align: right;\">\n",
              "      <th></th>\n",
              "      <th>name</th>\n",
              "      <th>shoe</th>\n",
              "      <th>height</th>\n",
              "      <th>gender</th>\n",
              "    </tr>\n",
              "  </thead>\n",
              "  <tbody>\n",
              "    <tr>\n",
              "      <th>0</th>\n",
              "      <td>ana</td>\n",
              "      <td>38</td>\n",
              "      <td>168</td>\n",
              "      <td>female</td>\n",
              "    </tr>\n",
              "    <tr>\n",
              "      <th>1</th>\n",
              "      <td>bruno</td>\n",
              "      <td>39</td>\n",
              "      <td>170</td>\n",
              "      <td>male</td>\n",
              "    </tr>\n",
              "    <tr>\n",
              "      <th>2</th>\n",
              "      <td>carlos</td>\n",
              "      <td>42</td>\n",
              "      <td>174</td>\n",
              "      <td>male</td>\n",
              "    </tr>\n",
              "  </tbody>\n",
              "</table>\n",
              "</div>"
            ],
            "text/plain": [
              "     name  shoe  height  gender\n",
              "0     ana    38     168  female\n",
              "1   bruno    39     170    male\n",
              "2  carlos    42     174    male"
            ]
          },
          "execution_count": 44,
          "metadata": {},
          "output_type": "execute_result"
        }
      ],
      "source": []
    },
    {
      "cell_type": "markdown",
      "metadata": {
        "id": "evS5SOAOT8-4"
      },
      "source": [
        "We may have also introduced a wrong value. We can **access** it or **change** it using `loc`"
      ]
    },
    {
      "cell_type": "code",
      "execution_count": null,
      "metadata": {
        "id": "KO6-IkXjT8-4",
        "outputId": "488987d2-f816-44b0-a9a7-024545c2641c"
      },
      "outputs": [
        {
          "data": {
            "text/plain": [
              "name      carlos\n",
              "shoe          42\n",
              "height       174\n",
              "gender      male\n",
              "Name: 2, dtype: object"
            ]
          },
          "execution_count": 39,
          "metadata": {},
          "output_type": "execute_result"
        }
      ],
      "source": [
        "students_df.loc[2]"
      ]
    },
    {
      "cell_type": "markdown",
      "metadata": {
        "id": "KHP3pLxiT8-4"
      },
      "source": [
        "We can also use the `iloc` method to access data by **position**\n",
        "- use `iloc` to access the last row of the DataFrame"
      ]
    },
    {
      "cell_type": "code",
      "execution_count": null,
      "metadata": {
        "id": "HC0JugKPT8-4"
      },
      "outputs": [],
      "source": []
    },
    {
      "cell_type": "markdown",
      "metadata": {
        "id": "dOKMZTzkT8-4"
      },
      "source": [
        "- Use `iloc` to access the last element of the last column of the DataFrame\n",
        "    \n",
        "    - **Tip**: the DataFrame is matrix-like, so you can use the same indexing as you would use in a matrix (even negative indices work)"
      ]
    },
    {
      "cell_type": "code",
      "execution_count": null,
      "metadata": {
        "id": "xhjRtVTtT8-5"
      },
      "outputs": [],
      "source": []
    },
    {
      "cell_type": "markdown",
      "metadata": {
        "id": "rOdZHpWFT8-5"
      },
      "source": [
        "## Write and Read a csv file\n",
        "\n",
        "We can use Pandas to perform both operations.\n",
        "Run the cell below and check on your folder if the file was created."
      ]
    },
    {
      "cell_type": "code",
      "execution_count": null,
      "metadata": {
        "id": "pRQrk-9AT8-5"
      },
      "outputs": [],
      "source": [
        "# write a DataFrame as a csv file\n"
      ]
    },
    {
      "cell_type": "markdown",
      "metadata": {
        "id": "IdAlBWfVT8-5"
      },
      "source": [
        "Read a csv file into a DataFrame - by **default**, `read_csv` assumes that the **delimiter is a comma**"
      ]
    },
    {
      "cell_type": "code",
      "execution_count": null,
      "metadata": {
        "id": "nv9ogSJLT8-5"
      },
      "outputs": [],
      "source": [
        "# read the csv file into students_df2\n",
        "students_df2 ="
      ]
    },
    {
      "cell_type": "markdown",
      "metadata": {
        "id": "Cr0SXgHkT8-5"
      },
      "source": [
        "Let's check if `students_df` is equal to `students_df2` using `.equals` method"
      ]
    },
    {
      "cell_type": "code",
      "execution_count": null,
      "metadata": {
        "id": "Gii4H15ZT8-5"
      },
      "outputs": [],
      "source": []
    },
    {
      "cell_type": "markdown",
      "metadata": {
        "id": "kc4hIddrT8-5"
      },
      "source": [
        "When saving a DataFrame to a csv file, we can specify the `index` (`True` | `False`)"
      ]
    },
    {
      "cell_type": "markdown",
      "metadata": {
        "id": "MhCml9HDT8-5"
      },
      "source": [
        "## Operations on pandas DataFrames\n",
        "\n",
        "In this section you will learn about some DataFrame methods like `head` and `tail`.\n",
        "\n",
        "### Subset of rows (records)"
      ]
    },
    {
      "cell_type": "markdown",
      "metadata": {
        "id": "Jajs1HwcT8-6"
      },
      "source": [
        "#### Select the first n rows"
      ]
    },
    {
      "cell_type": "code",
      "execution_count": null,
      "metadata": {
        "id": "p0boa8rYT8-6",
        "outputId": "b5b20bc6-d888-419d-bc55-59e09fc387a3"
      },
      "outputs": [
        {
          "data": {
            "text/html": [
              "<div>\n",
              "<style scoped>\n",
              "    .dataframe tbody tr th:only-of-type {\n",
              "        vertical-align: middle;\n",
              "    }\n",
              "\n",
              "    .dataframe tbody tr th {\n",
              "        vertical-align: top;\n",
              "    }\n",
              "\n",
              "    .dataframe thead th {\n",
              "        text-align: right;\n",
              "    }\n",
              "</style>\n",
              "<table border=\"1\" class=\"dataframe\">\n",
              "  <thead>\n",
              "    <tr style=\"text-align: right;\">\n",
              "      <th></th>\n",
              "      <th>name</th>\n",
              "      <th>shoe</th>\n",
              "      <th>height</th>\n",
              "      <th>gender</th>\n",
              "    </tr>\n",
              "  </thead>\n",
              "  <tbody>\n",
              "    <tr>\n",
              "      <th>0</th>\n",
              "      <td>ana</td>\n",
              "      <td>38</td>\n",
              "      <td>168</td>\n",
              "      <td>female</td>\n",
              "    </tr>\n",
              "    <tr>\n",
              "      <th>1</th>\n",
              "      <td>bruno</td>\n",
              "      <td>39</td>\n",
              "      <td>170</td>\n",
              "      <td>male</td>\n",
              "    </tr>\n",
              "  </tbody>\n",
              "</table>\n",
              "</div>"
            ],
            "text/plain": [
              "    name  shoe  height  gender\n",
              "0    ana    38     168  female\n",
              "1  bruno    39     170    male"
            ]
          },
          "execution_count": 14,
          "metadata": {},
          "output_type": "execute_result"
        }
      ],
      "source": []
    },
    {
      "cell_type": "markdown",
      "metadata": {
        "id": "r6mFLwB_T8-6"
      },
      "source": [
        "#### Select the last rows"
      ]
    },
    {
      "cell_type": "code",
      "execution_count": null,
      "metadata": {
        "id": "jQ1zj4AtT8-6",
        "outputId": "2c9ff5f7-bcea-4009-8d12-3a00a06a0ee8"
      },
      "outputs": [
        {
          "data": {
            "text/html": [
              "<div>\n",
              "<style scoped>\n",
              "    .dataframe tbody tr th:only-of-type {\n",
              "        vertical-align: middle;\n",
              "    }\n",
              "\n",
              "    .dataframe tbody tr th {\n",
              "        vertical-align: top;\n",
              "    }\n",
              "\n",
              "    .dataframe thead th {\n",
              "        text-align: right;\n",
              "    }\n",
              "</style>\n",
              "<table border=\"1\" class=\"dataframe\">\n",
              "  <thead>\n",
              "    <tr style=\"text-align: right;\">\n",
              "      <th></th>\n",
              "      <th>name</th>\n",
              "      <th>shoe</th>\n",
              "      <th>height</th>\n",
              "      <th>gender</th>\n",
              "    </tr>\n",
              "  </thead>\n",
              "  <tbody>\n",
              "    <tr>\n",
              "      <th>1</th>\n",
              "      <td>bruno</td>\n",
              "      <td>39</td>\n",
              "      <td>170</td>\n",
              "      <td>male</td>\n",
              "    </tr>\n",
              "    <tr>\n",
              "      <th>2</th>\n",
              "      <td>carlos</td>\n",
              "      <td>42</td>\n",
              "      <td>174</td>\n",
              "      <td>male</td>\n",
              "    </tr>\n",
              "  </tbody>\n",
              "</table>\n",
              "</div>"
            ],
            "text/plain": [
              "     name  shoe  height gender\n",
              "1   bruno    39     170   male\n",
              "2  carlos    42     174   male"
            ]
          },
          "execution_count": 15,
          "metadata": {},
          "output_type": "execute_result"
        }
      ],
      "source": []
    },
    {
      "cell_type": "markdown",
      "metadata": {
        "id": "9UnQ_UAvT8-6"
      },
      "source": [
        "#### Get a random sample of n rows"
      ]
    },
    {
      "cell_type": "code",
      "execution_count": null,
      "metadata": {
        "id": "HdrAoRXMT8-6",
        "outputId": "47be4f40-f935-4b14-ef6f-ddf3aeed3929"
      },
      "outputs": [
        {
          "data": {
            "text/html": [
              "<div>\n",
              "<style scoped>\n",
              "    .dataframe tbody tr th:only-of-type {\n",
              "        vertical-align: middle;\n",
              "    }\n",
              "\n",
              "    .dataframe tbody tr th {\n",
              "        vertical-align: top;\n",
              "    }\n",
              "\n",
              "    .dataframe thead th {\n",
              "        text-align: right;\n",
              "    }\n",
              "</style>\n",
              "<table border=\"1\" class=\"dataframe\">\n",
              "  <thead>\n",
              "    <tr style=\"text-align: right;\">\n",
              "      <th></th>\n",
              "      <th>name</th>\n",
              "      <th>shoe</th>\n",
              "      <th>height</th>\n",
              "      <th>gender</th>\n",
              "    </tr>\n",
              "  </thead>\n",
              "  <tbody>\n",
              "    <tr>\n",
              "      <th>2</th>\n",
              "      <td>carlos</td>\n",
              "      <td>42</td>\n",
              "      <td>174</td>\n",
              "      <td>male</td>\n",
              "    </tr>\n",
              "    <tr>\n",
              "      <th>0</th>\n",
              "      <td>ana</td>\n",
              "      <td>38</td>\n",
              "      <td>168</td>\n",
              "      <td>female</td>\n",
              "    </tr>\n",
              "  </tbody>\n",
              "</table>\n",
              "</div>"
            ],
            "text/plain": [
              "     name  shoe  height  gender\n",
              "2  carlos    42     174    male\n",
              "0     ana    38     168  female"
            ]
          },
          "execution_count": 16,
          "metadata": {},
          "output_type": "execute_result"
        }
      ],
      "source": []
    },
    {
      "cell_type": "markdown",
      "metadata": {
        "id": "DBjJk3-fT8-6"
      },
      "source": [
        "#### Select rows by position\n",
        "- select the **first and second rows**"
      ]
    },
    {
      "cell_type": "code",
      "execution_count": null,
      "metadata": {
        "id": "m_vDb2itT8-6",
        "outputId": "5ad47d0b-f141-4740-e5e8-2669d18c6c65"
      },
      "outputs": [
        {
          "data": {
            "text/html": [
              "<div>\n",
              "<style scoped>\n",
              "    .dataframe tbody tr th:only-of-type {\n",
              "        vertical-align: middle;\n",
              "    }\n",
              "\n",
              "    .dataframe tbody tr th {\n",
              "        vertical-align: top;\n",
              "    }\n",
              "\n",
              "    .dataframe thead th {\n",
              "        text-align: right;\n",
              "    }\n",
              "</style>\n",
              "<table border=\"1\" class=\"dataframe\">\n",
              "  <thead>\n",
              "    <tr style=\"text-align: right;\">\n",
              "      <th></th>\n",
              "      <th>name</th>\n",
              "      <th>shoe</th>\n",
              "      <th>height</th>\n",
              "      <th>gender</th>\n",
              "    </tr>\n",
              "  </thead>\n",
              "  <tbody>\n",
              "    <tr>\n",
              "      <th>1</th>\n",
              "      <td>bruno</td>\n",
              "      <td>39</td>\n",
              "      <td>170</td>\n",
              "      <td>male</td>\n",
              "    </tr>\n",
              "    <tr>\n",
              "      <th>2</th>\n",
              "      <td>carlos</td>\n",
              "      <td>42</td>\n",
              "      <td>174</td>\n",
              "      <td>male</td>\n",
              "    </tr>\n",
              "  </tbody>\n",
              "</table>\n",
              "</div>"
            ],
            "text/plain": [
              "     name  shoe  height gender\n",
              "1   bruno    39     170   male\n",
              "2  carlos    42     174   male"
            ]
          },
          "execution_count": 17,
          "metadata": {},
          "output_type": "execute_result"
        }
      ],
      "source": []
    },
    {
      "cell_type": "markdown",
      "metadata": {
        "id": "IvzQFC-nT8-6"
      },
      "source": [
        "#### Select rows that meet logical criteria\n",
        "- select all students with `height` of **170cm or higher**"
      ]
    },
    {
      "cell_type": "code",
      "execution_count": null,
      "metadata": {
        "id": "4__N53trT8-6",
        "outputId": "046bcf4f-cd1f-4414-f0d0-b4799c4aa30f"
      },
      "outputs": [
        {
          "data": {
            "text/html": [
              "<div>\n",
              "<style scoped>\n",
              "    .dataframe tbody tr th:only-of-type {\n",
              "        vertical-align: middle;\n",
              "    }\n",
              "\n",
              "    .dataframe tbody tr th {\n",
              "        vertical-align: top;\n",
              "    }\n",
              "\n",
              "    .dataframe thead th {\n",
              "        text-align: right;\n",
              "    }\n",
              "</style>\n",
              "<table border=\"1\" class=\"dataframe\">\n",
              "  <thead>\n",
              "    <tr style=\"text-align: right;\">\n",
              "      <th></th>\n",
              "      <th>name</th>\n",
              "      <th>shoe</th>\n",
              "      <th>height</th>\n",
              "      <th>gender</th>\n",
              "    </tr>\n",
              "  </thead>\n",
              "  <tbody>\n",
              "    <tr>\n",
              "      <th>1</th>\n",
              "      <td>bruno</td>\n",
              "      <td>39</td>\n",
              "      <td>170</td>\n",
              "      <td>male</td>\n",
              "    </tr>\n",
              "    <tr>\n",
              "      <th>2</th>\n",
              "      <td>carlos</td>\n",
              "      <td>42</td>\n",
              "      <td>174</td>\n",
              "      <td>male</td>\n",
              "    </tr>\n",
              "  </tbody>\n",
              "</table>\n",
              "</div>"
            ],
            "text/plain": [
              "     name  shoe  height gender\n",
              "1   bruno    39     170   male\n",
              "2  carlos    42     174   male"
            ]
          },
          "execution_count": 18,
          "metadata": {},
          "output_type": "execute_result"
        }
      ],
      "source": [
        "\n"
      ]
    },
    {
      "cell_type": "markdown",
      "metadata": {
        "id": "DNBu5KsOT8-7"
      },
      "source": [
        "#### Select rows based on multiple conditions\n",
        "- select all `male` students with `height` of **172cm or higher**"
      ]
    },
    {
      "cell_type": "code",
      "execution_count": null,
      "metadata": {
        "id": "bvJdpGJVT8-7",
        "outputId": "721e33bd-f6d6-4098-d7bf-0e94e43d253a"
      },
      "outputs": [
        {
          "data": {
            "text/html": [
              "<div>\n",
              "<style scoped>\n",
              "    .dataframe tbody tr th:only-of-type {\n",
              "        vertical-align: middle;\n",
              "    }\n",
              "\n",
              "    .dataframe tbody tr th {\n",
              "        vertical-align: top;\n",
              "    }\n",
              "\n",
              "    .dataframe thead th {\n",
              "        text-align: right;\n",
              "    }\n",
              "</style>\n",
              "<table border=\"1\" class=\"dataframe\">\n",
              "  <thead>\n",
              "    <tr style=\"text-align: right;\">\n",
              "      <th></th>\n",
              "      <th>name</th>\n",
              "      <th>shoe</th>\n",
              "      <th>height</th>\n",
              "      <th>gender</th>\n",
              "    </tr>\n",
              "  </thead>\n",
              "  <tbody>\n",
              "    <tr>\n",
              "      <th>2</th>\n",
              "      <td>carlos</td>\n",
              "      <td>42</td>\n",
              "      <td>174</td>\n",
              "      <td>male</td>\n",
              "    </tr>\n",
              "  </tbody>\n",
              "</table>\n",
              "</div>"
            ],
            "text/plain": [
              "     name  shoe  height gender\n",
              "2  carlos    42     174   male"
            ]
          },
          "execution_count": 19,
          "metadata": {},
          "output_type": "execute_result"
        }
      ],
      "source": []
    },
    {
      "cell_type": "markdown",
      "metadata": {
        "id": "zpRMEdb6T8-7"
      },
      "source": [
        "- select all `female` students with `height` of **172cm or higher**"
      ]
    },
    {
      "cell_type": "code",
      "execution_count": null,
      "metadata": {
        "id": "4__C5_ogT8-7",
        "outputId": "b5bee082-d2a0-4ff8-c1b0-621cc1d9eb25"
      },
      "outputs": [
        {
          "data": {
            "text/html": [
              "<div>\n",
              "<style scoped>\n",
              "    .dataframe tbody tr th:only-of-type {\n",
              "        vertical-align: middle;\n",
              "    }\n",
              "\n",
              "    .dataframe tbody tr th {\n",
              "        vertical-align: top;\n",
              "    }\n",
              "\n",
              "    .dataframe thead th {\n",
              "        text-align: right;\n",
              "    }\n",
              "</style>\n",
              "<table border=\"1\" class=\"dataframe\">\n",
              "  <thead>\n",
              "    <tr style=\"text-align: right;\">\n",
              "      <th></th>\n",
              "      <th>name</th>\n",
              "      <th>shoe</th>\n",
              "      <th>height</th>\n",
              "      <th>gender</th>\n",
              "    </tr>\n",
              "  </thead>\n",
              "  <tbody>\n",
              "    <tr>\n",
              "      <th>0</th>\n",
              "      <td>ana</td>\n",
              "      <td>38</td>\n",
              "      <td>168</td>\n",
              "      <td>female</td>\n",
              "    </tr>\n",
              "    <tr>\n",
              "      <th>2</th>\n",
              "      <td>carlos</td>\n",
              "      <td>42</td>\n",
              "      <td>174</td>\n",
              "      <td>male</td>\n",
              "    </tr>\n",
              "  </tbody>\n",
              "</table>\n",
              "</div>"
            ],
            "text/plain": [
              "     name  shoe  height  gender\n",
              "0     ana    38     168  female\n",
              "2  carlos    42     174    male"
            ]
          },
          "execution_count": 20,
          "metadata": {},
          "output_type": "execute_result"
        }
      ],
      "source": []
    },
    {
      "cell_type": "markdown",
      "metadata": {
        "id": "Fa2M4UT3T8-7"
      },
      "source": [
        "### Subset of columns (variables)\n",
        "\n",
        "#### Select columns by name"
      ]
    },
    {
      "cell_type": "code",
      "execution_count": null,
      "metadata": {
        "id": "N5T_aMoBT8-7",
        "outputId": "ff4418e2-bc39-4508-e8fa-8811948be252"
      },
      "outputs": [
        {
          "data": {
            "text/plain": [
              "0       ana\n",
              "1     bruno\n",
              "2    carlos\n",
              "Name: name, dtype: object"
            ]
          },
          "execution_count": 21,
          "metadata": {},
          "output_type": "execute_result"
        }
      ],
      "source": []
    },
    {
      "cell_type": "markdown",
      "metadata": {
        "id": "LJyYXpj2T8-7"
      },
      "source": [
        "Select subset of columns `name` and `gender`"
      ]
    },
    {
      "cell_type": "code",
      "execution_count": null,
      "metadata": {
        "scrolled": true,
        "id": "OaueZAGiT8-7",
        "outputId": "b5daf545-e3b1-4cb4-f1e1-7848d1db4254"
      },
      "outputs": [
        {
          "data": {
            "text/html": [
              "<div>\n",
              "<style scoped>\n",
              "    .dataframe tbody tr th:only-of-type {\n",
              "        vertical-align: middle;\n",
              "    }\n",
              "\n",
              "    .dataframe tbody tr th {\n",
              "        vertical-align: top;\n",
              "    }\n",
              "\n",
              "    .dataframe thead th {\n",
              "        text-align: right;\n",
              "    }\n",
              "</style>\n",
              "<table border=\"1\" class=\"dataframe\">\n",
              "  <thead>\n",
              "    <tr style=\"text-align: right;\">\n",
              "      <th></th>\n",
              "      <th>name</th>\n",
              "      <th>gender</th>\n",
              "    </tr>\n",
              "  </thead>\n",
              "  <tbody>\n",
              "    <tr>\n",
              "      <th>0</th>\n",
              "      <td>ana</td>\n",
              "      <td>female</td>\n",
              "    </tr>\n",
              "    <tr>\n",
              "      <th>1</th>\n",
              "      <td>bruno</td>\n",
              "      <td>male</td>\n",
              "    </tr>\n",
              "    <tr>\n",
              "      <th>2</th>\n",
              "      <td>carlos</td>\n",
              "      <td>male</td>\n",
              "    </tr>\n",
              "  </tbody>\n",
              "</table>\n",
              "</div>"
            ],
            "text/plain": [
              "     name  gender\n",
              "0     ana  female\n",
              "1   bruno    male\n",
              "2  carlos    male"
            ]
          },
          "execution_count": 22,
          "metadata": {},
          "output_type": "execute_result"
        }
      ],
      "source": []
    },
    {
      "cell_type": "markdown",
      "metadata": {
        "id": "9rZgt4UbT8-7"
      },
      "source": [
        "#### Select columns by position\n",
        "Using `iloc[rows, columns]` to select\n",
        "- select the **first and third columns** of the dataframe"
      ]
    },
    {
      "cell_type": "code",
      "execution_count": null,
      "metadata": {
        "id": "vCwJCIdkT8-8",
        "outputId": "8d98ef45-64a9-429c-989c-de9bf16e516e"
      },
      "outputs": [
        {
          "data": {
            "text/html": [
              "<div>\n",
              "<style scoped>\n",
              "    .dataframe tbody tr th:only-of-type {\n",
              "        vertical-align: middle;\n",
              "    }\n",
              "\n",
              "    .dataframe tbody tr th {\n",
              "        vertical-align: top;\n",
              "    }\n",
              "\n",
              "    .dataframe thead th {\n",
              "        text-align: right;\n",
              "    }\n",
              "</style>\n",
              "<table border=\"1\" class=\"dataframe\">\n",
              "  <thead>\n",
              "    <tr style=\"text-align: right;\">\n",
              "      <th></th>\n",
              "      <th>shoe</th>\n",
              "      <th>gender</th>\n",
              "    </tr>\n",
              "  </thead>\n",
              "  <tbody>\n",
              "    <tr>\n",
              "      <th>0</th>\n",
              "      <td>38</td>\n",
              "      <td>female</td>\n",
              "    </tr>\n",
              "    <tr>\n",
              "      <th>1</th>\n",
              "      <td>39</td>\n",
              "      <td>male</td>\n",
              "    </tr>\n",
              "    <tr>\n",
              "      <th>2</th>\n",
              "      <td>42</td>\n",
              "      <td>male</td>\n",
              "    </tr>\n",
              "  </tbody>\n",
              "</table>\n",
              "</div>"
            ],
            "text/plain": [
              "   shoe  gender\n",
              "0    38  female\n",
              "1    39    male\n",
              "2    42    male"
            ]
          },
          "execution_count": 90,
          "metadata": {},
          "output_type": "execute_result"
        }
      ],
      "source": []
    },
    {
      "cell_type": "markdown",
      "metadata": {
        "id": "O9C0m170T8-8"
      },
      "source": [
        "### Subset of both rows and columns\n",
        "- select the rows where the `shoe` size is **greater than 40** and **only** the columns `name` and `shoe`"
      ]
    },
    {
      "cell_type": "code",
      "execution_count": null,
      "metadata": {
        "id": "sGfdyJqRT8-8",
        "outputId": "ea599faf-d3cb-4e79-c9f6-9d7ac625bd97"
      },
      "outputs": [
        {
          "data": {
            "text/html": [
              "<div>\n",
              "<style scoped>\n",
              "    .dataframe tbody tr th:only-of-type {\n",
              "        vertical-align: middle;\n",
              "    }\n",
              "\n",
              "    .dataframe tbody tr th {\n",
              "        vertical-align: top;\n",
              "    }\n",
              "\n",
              "    .dataframe thead th {\n",
              "        text-align: right;\n",
              "    }\n",
              "</style>\n",
              "<table border=\"1\" class=\"dataframe\">\n",
              "  <thead>\n",
              "    <tr style=\"text-align: right;\">\n",
              "      <th></th>\n",
              "      <th>name</th>\n",
              "      <th>shoe</th>\n",
              "    </tr>\n",
              "  </thead>\n",
              "  <tbody>\n",
              "    <tr>\n",
              "      <th>2</th>\n",
              "      <td>carlos</td>\n",
              "      <td>42</td>\n",
              "    </tr>\n",
              "  </tbody>\n",
              "</table>\n",
              "</div>"
            ],
            "text/plain": [
              "     name  shoe\n",
              "2  carlos    42"
            ]
          },
          "execution_count": 24,
          "metadata": {},
          "output_type": "execute_result"
        }
      ],
      "source": []
    },
    {
      "cell_type": "markdown",
      "metadata": {
        "id": "jebiQCCXT8-8"
      },
      "source": [
        "### Summing Up\n",
        "\n",
        "* When selecting subsets of data, square brackets `[]` are used.\n",
        "* Inside these brackets, you can use a single column/row label, a list of column/row labels, a slice of labels, a conditional expression or a column.\n",
        "* Select specific rows and/or columns using **loc** when using the row and column names.\n",
        "* Select specific rows and/or columns using **iloc** when using the positions in the table.\n",
        "* You can assign new values to a selection based on **loc/iloc**.\n",
        "\n",
        "[This](https://pandas.pydata.org/Pandas_Cheat_Sheet.pdf) Pandas Cheat Sheet might come in handy."
      ]
    },
    {
      "cell_type": "markdown",
      "metadata": {
        "id": "gwXR7VMdT8-8"
      },
      "source": [
        "## Challenges\n",
        "\n",
        "In these challenges you will handle a bigger dataset."
      ]
    },
    {
      "cell_type": "markdown",
      "metadata": {
        "id": "6dOiznYPT8-8"
      },
      "source": [
        "There are a few first questions you need to know how to answer before reading a CSV file with Pandas\n",
        "\n",
        "- Does the CSV have a header line?\n",
        "- Is there an index column?\n",
        "- What is the separator character on the CSV file?\n",
        "- If there are missing values, is there any specific word being used to describe a missing value?\n",
        "\n",
        "Then, these details can be handled by specifing some parameters as `sep`, `na_values` or `index_col`.\n",
        "\n",
        "### Challenge 1 - Load the dataset"
      ]
    },
    {
      "cell_type": "code",
      "execution_count": null,
      "metadata": {
        "id": "-3GJptZtT8-8"
      },
      "outputs": [],
      "source": [
        "# Your code here\n",
        "# load titanic dataset"
      ]
    },
    {
      "cell_type": "markdown",
      "metadata": {
        "id": "L2GqGEhYT8-8"
      },
      "source": [
        "### Challenge 2 - Validate the loading\n",
        "\n",
        "1. Show the first 10 rows and confirm if the table matches with the lines\n"
      ]
    },
    {
      "cell_type": "code",
      "execution_count": null,
      "metadata": {
        "id": "mJWEEOAkT8-8"
      },
      "outputs": [],
      "source": [
        "# Your code here"
      ]
    },
    {
      "cell_type": "markdown",
      "metadata": {
        "id": "hOiOJaRRT8-9"
      },
      "source": [
        "2. Try the DataFrame method `info`. It is a nice alternative. What information do you get from this?"
      ]
    },
    {
      "cell_type": "code",
      "execution_count": null,
      "metadata": {
        "id": "6Oju5vu6T8-9"
      },
      "outputs": [],
      "source": [
        "# Your code here"
      ]
    },
    {
      "cell_type": "markdown",
      "metadata": {
        "id": "Q9yd2emmT8-9"
      },
      "source": [
        "### Challenge 3 - Some basic EDA\n",
        "\n",
        "**EDA** stands for `Exploratory Data Analysis`. It is used by data scientists to analyze and investigate data sets and summarize their main characteristics, often employing data visualization methods."
      ]
    },
    {
      "cell_type": "markdown",
      "metadata": {
        "id": "t5qQk0ReT8-9"
      },
      "source": [
        "Try executing `df_titanic.describe()`."
      ]
    },
    {
      "cell_type": "code",
      "execution_count": null,
      "metadata": {
        "id": "4upaLx5XT8-9"
      },
      "outputs": [],
      "source": [
        "# Your code here"
      ]
    },
    {
      "cell_type": "markdown",
      "metadata": {
        "id": "HJKHG5WFT8-9"
      },
      "source": [
        "After investigating the results, describe them and comment on the usefulness of this Pandas function."
      ]
    },
    {
      "cell_type": "code",
      "execution_count": null,
      "metadata": {
        "id": "OIHcdkQNT8-9"
      },
      "outputs": [],
      "source": [
        "# Your comments here"
      ]
    },
    {
      "cell_type": "markdown",
      "metadata": {
        "id": "tsfZ6tk2T8-9"
      },
      "source": [
        "Now, try `.info()` method."
      ]
    },
    {
      "cell_type": "code",
      "execution_count": null,
      "metadata": {
        "id": "kqXx9uugT8-9"
      },
      "outputs": [],
      "source": [
        "# Your code here"
      ]
    },
    {
      "cell_type": "markdown",
      "metadata": {
        "id": "d6aiaGFrT8--"
      },
      "source": [
        "What information do you get from this?"
      ]
    },
    {
      "cell_type": "code",
      "execution_count": null,
      "metadata": {
        "id": "gw3o_wE9T8--"
      },
      "outputs": [],
      "source": [
        "# Your comments here"
      ]
    },
    {
      "cell_type": "markdown",
      "metadata": {
        "id": "G6wqc7QgT8--"
      },
      "source": [
        "### Challenge 4 - Getting to know your data\n",
        "\n",
        "What do the results above tell you about each variable? Do you actually now what they mean?\n",
        "\n",
        "This is a crutial step. For info on this dataset click [here](https://www.kaggle.com/competitions/titanic/data?select=train.csv).\n",
        "\n"
      ]
    },
    {
      "cell_type": "code",
      "execution_count": null,
      "metadata": {
        "id": "TeBUz6VVT8--"
      },
      "outputs": [],
      "source": [
        "# Your comments here"
      ]
    },
    {
      "cell_type": "markdown",
      "metadata": {
        "id": "qrwtSQyJT8--"
      },
      "source": [
        "---\n",
        "\n",
        "## Additional Challenge\n",
        "\n",
        "This challenge is solved to help you get familiar with the most important object of the NumPy library, the array."
      ]
    },
    {
      "cell_type": "markdown",
      "metadata": {
        "id": "LaW9C3sET8--"
      },
      "source": [
        "### Part I\n",
        "\n",
        "1. Use the numpy's function `arange` and create the array `my_array` with the sequence of numbers from 0 to 24."
      ]
    },
    {
      "cell_type": "code",
      "execution_count": null,
      "metadata": {
        "id": "xJzo8bNqT8--"
      },
      "outputs": [],
      "source": []
    },
    {
      "cell_type": "markdown",
      "metadata": {
        "id": "aNpjSuuLT8--"
      },
      "source": [
        "2. Use the method `reshape` to redimension the array so that it has 6 rows and 4 columns. What happened? What is the relasionship between the number of elements and the dimensions of a 2D matrix?"
      ]
    },
    {
      "cell_type": "code",
      "execution_count": null,
      "metadata": {
        "colab": {
          "base_uri": "https://localhost:8080/"
        },
        "id": "HpUE2CrVk-sU",
        "outputId": "26461d09-1cdd-486b-99dd-04e48af18d7b"
      },
      "outputs": [
        {
          "data": {
            "text/plain": [
              "array([[ 0,  1,  2,  3],\n",
              "       [ 4,  5,  6,  7],\n",
              "       [ 8,  9, 10, 11],\n",
              "       [12, 13, 14, 15],\n",
              "       [16, 17, 18, 19],\n",
              "       [20, 21, 22, 23]])"
            ]
          },
          "execution_count": 33,
          "metadata": {},
          "output_type": "execute_result"
        }
      ],
      "source": [
        "my_array = np.arange(24).reshape((6,4))\n",
        "my_array"
      ]
    },
    {
      "cell_type": "markdown",
      "metadata": {
        "id": "IJU9afY2-Kui"
      },
      "source": [
        "###  Part II\n",
        "\n",
        "$$\\begin{bmatrix}\n",
        "1 & 2 & 1 & 7 \\\\\n",
        "3 & 0 & 1 & 8 \\\\\n",
        "0 & 2 & 4 & 9 \\\\\n",
        "2 & 2 & 5 & 5\n",
        "\\end{bmatrix}$$\n",
        "\n",
        "1. Create this matrix in NumPy"
      ]
    },
    {
      "cell_type": "code",
      "execution_count": null,
      "metadata": {
        "id": "qx4i5gtPAbX_"
      },
      "outputs": [],
      "source": []
    },
    {
      "cell_type": "markdown",
      "metadata": {
        "id": "gNXTxEyxT8-_"
      },
      "source": [
        "2. Slice the first column"
      ]
    },
    {
      "cell_type": "code",
      "execution_count": null,
      "metadata": {
        "id": "7Cf4IPX_T8-_"
      },
      "outputs": [],
      "source": []
    },
    {
      "cell_type": "markdown",
      "metadata": {
        "id": "5YCGM6MaT8-_"
      },
      "source": [
        "3. Slice the first column, but only the second and third rows"
      ]
    },
    {
      "cell_type": "code",
      "execution_count": null,
      "metadata": {
        "id": "AlqPavOKT8-_"
      },
      "outputs": [],
      "source": []
    },
    {
      "cell_type": "markdown",
      "metadata": {
        "id": "F9BrFCZ6T8-_"
      },
      "source": [
        "4. Slice the 4 elements at the center of the matrix"
      ]
    },
    {
      "cell_type": "code",
      "execution_count": null,
      "metadata": {
        "id": "kgKBWbP9T8-_"
      },
      "outputs": [],
      "source": []
    },
    {
      "cell_type": "markdown",
      "metadata": {
        "id": "68CTC3GZT8-_"
      },
      "source": [
        "5. Slice the sub-matrix of the 4 elements of the lower right corner, without using the matrix size"
      ]
    },
    {
      "cell_type": "code",
      "execution_count": null,
      "metadata": {
        "id": "yAADkSnhT8-_"
      },
      "outputs": [],
      "source": []
    },
    {
      "cell_type": "markdown",
      "metadata": {
        "id": "SLeP_mBIT8-_"
      },
      "source": [
        "6. Slice the sub-matrix of the 4 elements of the upper right corner, without using the matrix size"
      ]
    },
    {
      "cell_type": "code",
      "execution_count": null,
      "metadata": {
        "id": "EDOn-n-fT8-_"
      },
      "outputs": [],
      "source": []
    },
    {
      "cell_type": "markdown",
      "metadata": {
        "id": "yxOMi7z0T8_A"
      },
      "source": [
        "**Expected output**:\n",
        "\n",
        "```python\n",
        "\n",
        "first column:\n",
        " [1 3 0 2]\n",
        "\n",
        "first column, rows 2 and 3:\n",
        " [3 0]\n",
        "\n",
        "centre:\n",
        " [[0 1]\n",
        " [2 4]]\n",
        "\n",
        "bottom right:\n",
        " [[4 9]\n",
        " [5 5]]\n",
        "\n",
        "bottom right:\n",
        " [[4 9]\n",
        " [5 5]]\n",
        "\n",
        "top right:\n",
        " [[1 7]\n",
        " [1 8]]\n",
        "\n",
        "top right:\n",
        " [[1 7]\n",
        " [1 8]]\n",
        "\n",
        "top right:\n",
        " [[1 7]\n",
        " [1 8]]\n",
        "```"
      ]
    }
  ],
  "metadata": {
    "colab": {
      "provenance": [],
      "toc_visible": true
    },
    "kernelspec": {
      "display_name": "Python 3 (ipykernel)",
      "language": "python",
      "name": "python3"
    },
    "language_info": {
      "codemirror_mode": {
        "name": "ipython",
        "version": 3
      },
      "file_extension": ".py",
      "mimetype": "text/x-python",
      "name": "python",
      "nbconvert_exporter": "python",
      "pygments_lexer": "ipython3",
      "version": "3.12.3"
    }
  },
  "nbformat": 4,
  "nbformat_minor": 0
}