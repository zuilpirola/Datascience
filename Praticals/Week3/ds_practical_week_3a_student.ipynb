{
  "cells": [
    {
      "cell_type": "markdown",
      "metadata": {
        "id": "sbKevdjUu4Lj"
      },
      "source": [
        "# Practical Lab: Week 3\n",
        "\n",
        "Note: This practical session is based on the exercises in section 2.4 (Applied) of the module's book."
      ]
    },
    {
      "cell_type": "markdown",
      "metadata": {
        "id": "inuv0FJ_u4Ll"
      },
      "source": [
        "## Part I: The college dataset"
      ]
    },
    {
      "cell_type": "markdown",
      "metadata": {
        "id": "3fDF9cfHu4Lm"
      },
      "source": [
        "### Data\n",
        "\n",
        "1. Import `Pandas`\n",
        "2. From the Moodle page (week 3, lab) get the `College.csv` CSV file and put it in the same folder where you saved your Jupyter notebook\n",
        "3. Read the CSV file as a variable called `college`\n",
        "4. Inspect the contents of the dataframe by using the `head()` method from `Pandas`"
      ]
    },
    {
      "cell_type": "code",
      "execution_count": null,
      "metadata": {
        "id": "MyvxUJAVu4Ln"
      },
      "outputs": [],
      "source": [
        "#1\n"
      ]
    },
    {
      "cell_type": "code",
      "execution_count": null,
      "metadata": {
        "id": "xILoSGnfu4Lo"
      },
      "outputs": [],
      "source": [
        "#3\n"
      ]
    },
    {
      "cell_type": "code",
      "execution_count": null,
      "metadata": {
        "id": "SGVCHIC5u4Lp"
      },
      "outputs": [],
      "source": [
        "#4\n"
      ]
    },
    {
      "cell_type": "markdown",
      "metadata": {
        "id": "QUoPXMx_u4Lq"
      },
      "source": [
        "5. In data science, this sort of data is called a _rectangular_ data structure. Make sure your tutor explains what this means. We will speak about this in the regular lecture."
      ]
    },
    {
      "cell_type": "markdown",
      "metadata": {
        "id": "ybX9wQodu4Lr"
      },
      "source": [
        "The column variables refer to the following information:\n",
        "\n",
        "- **Private** : Public/private indicator\n",
        "- **Apps** : Number of applications received\n",
        "- **Accept** : Number of applicants accepted\n",
        "- **Enroll** : Number of new students enrolled\n",
        "- **Top10perc** : New students from top 10 % of high school class\n",
        "- **Top25perc** : New students from top 25 % of high school class\n",
        "- **F.Undergrad** : Number of full-time undergraduates\n",
        "- **P.Undergrad** : Number of part-time undergraduates\n",
        "- **Outstate** : Out-of-state tuition fees\n",
        "- **Room.Board** : Room and board costs\n",
        "- **Books** : Estimated book costs\n",
        "- **Personal** : Estimated personal spending\n",
        "- **PhD** : Percent of faculty with Ph.D.s\n",
        "- **Terminal** : Percent of faculty with terminal degree\n",
        "- **S.F.Ratio** : Student/faculty ratio\n",
        "- **perc.alumni** : Percent of alumni who donate\n",
        "- **Expend** : Instructional expenditure per student\n",
        "- **Grad.Rate** : Graduation rate"
      ]
    },
    {
      "cell_type": "markdown",
      "metadata": {
        "id": "5glmAjDiLGsg"
      },
      "source": [
        "6. Notice we have the `college` dataframe indexed by column index, and the column with the university names has no name itself, we want to index by the universities. Play with the `Pandas` methods `rename` and `set_index` so that you (a) get rid of the numerical index, (b) make the universities column become the new index, and call that column `College`"
      ]
    },
    {
      "cell_type": "code",
      "execution_count": null,
      "metadata": {
        "id": "DDkIBqE6LGsg"
      },
      "outputs": [],
      "source": [
        "#6\n"
      ]
    },
    {
      "cell_type": "markdown",
      "metadata": {
        "id": "3lvbVzvhLGsg"
      },
      "source": [
        "7. We want to know the ratio of Private colleges overall. Answer this question in two ways:\n",
        "\n",
        "7a. Make a slice the dataframe that contains only the Private colleges, get the length of the slice and divide by the length of the dataframe.\n",
        "\n",
        "7b. Check the [documentation](https://pandas.pydata.org/docs/reference/api/pandas.Series.value_counts.html)  `value_counts` function in Pandas. Also check the [documentation](https://pandas.pydata.org/docs/reference/api/pandas.notnull.html) for `notnull`. Use these functions to produce the ratio of Private Colleges in a way that is (as much as possible) resillient to unforseen problems, for example: some Colleges may have no information on the Private column; You may have been told a lie and all the values in Private are empty (null)"
      ]
    },
    {
      "cell_type": "code",
      "execution_count": null,
      "metadata": {
        "id": "CpTlf8OsLGsg"
      },
      "outputs": [],
      "source": [
        "# 7.a (beginner data scientist)\n"
      ]
    },
    {
      "cell_type": "code",
      "execution_count": null,
      "metadata": {
        "id": "XAPk__KpLGsg"
      },
      "outputs": [],
      "source": [
        "# 7.b (seasoned data scientist)\n"
      ]
    },
    {
      "cell_type": "markdown",
      "metadata": {
        "id": "AVSNHnvhu4Lr"
      },
      "source": [
        "8. Use the `describe()` method on the `college` dataframe. Spend some time trying to figure out what information is provided with the help of your tutor. check the documentation [here.](https://pandas.pydata.org/docs/reference/api/pandas.DataFrame.describe.html). Keep in mind that the quantities produced, like mean and std will be explained in the lectures."
      ]
    },
    {
      "cell_type": "code",
      "execution_count": null,
      "metadata": {
        "id": "g3vDRdDeu4Ls"
      },
      "outputs": [],
      "source": [
        "college.describe()"
      ]
    },
    {
      "cell_type": "markdown",
      "metadata": {
        "id": "bQVTlfJQu4Ls"
      },
      "source": [
        "Answer:\n"
      ]
    },
    {
      "cell_type": "code",
      "execution_count": null,
      "metadata": {
        "id": "sNbu_Ekeu4Lu"
      },
      "outputs": [],
      "source": []
    }
  ],
  "metadata": {
    "colab": {
      "provenance": []
    },
    "kernelspec": {
      "display_name": "general_3_11",
      "language": "python",
      "name": "python3"
    },
    "language_info": {
      "codemirror_mode": {
        "name": "ipython",
        "version": 3
      },
      "file_extension": ".py",
      "mimetype": "text/x-python",
      "name": "python",
      "nbconvert_exporter": "python",
      "pygments_lexer": "ipython3",
      "version": "3.12.2"
    },
    "orig_nbformat": 4
  },
  "nbformat": 4,
  "nbformat_minor": 0
}