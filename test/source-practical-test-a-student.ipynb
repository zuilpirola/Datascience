{
 "cells": [
  {
   "cell_type": "markdown",
   "metadata": {},
   "source": [
    "# Preliminary notes\n",
    "\n",
    "This is a formal evaluation. It accounts for 20% of your final score of the Data Science module. Please observe the following rules during the entire evaluation:\n",
    "\n",
    "1. You cannot speak to other students once that evaluation starts.\n",
    "2. You cannot consult any previous notebooks you created or shared with you.\n",
    "3. You can only have your Jupyter Python and a browser pointing to the Python documentation open. Any other open tabs or apps can invalidate your test.\n",
    "4. Distributing the contents of this test is forbidden.\n"
   ]
  },
  {
   "cell_type": "markdown",
   "metadata": {},
   "source": [
    "# Descrição do Conjunto de Dados\n",
    "\n",
    "- `Temperature`: Temperatura em graus Celsius.\n",
    "- `Humidity`: Umidade relativa do ar (%).\n",
    "- `Wind_Speed`: Velocidade do vento (km/h).\n",
    "- `Cloud_Cover`: Cobertura de nuvens (%).\n",
    "- `Pressure`: Pressão atmosférica (hPa).\n",
    "- `Pollen`: ìndice de pólen no ar.\n",
    "- `Rain`: Variável categórica indicando se houve chuva (`rain`) ou não (`no rain`)."
   ]
  },
  {
   "cell_type": "markdown",
   "metadata": {},
   "source": [
    "Importando as bibliotecas"
   ]
  },
  {
   "cell_type": "code",
   "execution_count": 156,
   "metadata": {},
   "outputs": [],
   "source": [
    "import pandas as pd\n",
    "import statsmodels.api as sm\n",
    "import statsmodels.formula.api as smf\n",
    "import matplotlib.pyplot as plt\n",
    "from matplotlib import cm\n",
    "import numpy as np\n",
    "import math"
   ]
  },
  {
   "cell_type": "markdown",
   "metadata": {},
   "source": [
    "# Questões\n",
    "\n",
    "- Q1. Identify the minimum and maximum values of each variable:\n",
    "\n",
    "    - a) Temperature.\n",
    "    - b) Humidity.\n",
    "\n",
    "- Q2. How many observations does the variable Rain have? Choose a graph that best represents this information.\n",
    "\n",
    "- Q3. Produce scatter plots showing the relationship between the following variables and indicate whether there is a linear relationship. If so, specify whether it is positive or negative:\n",
    "\n",
    "    - a) Temperature x Humidity.\n",
    "    - b) Cloud_Cover x Wind_Speed.\n",
    "    - c) Temperature x Cloud_Cover.\n",
    "    - d) Pressure x Pollen.\n",
    "\n",
    "- Q4. Use a boxplot to compare the values of Temperature on rainy days (Rain = \"rain\") and non-rainy days (Rain = \"no rain\").\n",
    "\n",
    "    - a) What is the difference between the medians of the two groups?\n",
    "    - b) How do you interpret the results in relation to the probability of rain?\n",
    "\n",
    "- Q5. Build a linear regression model to predict Rain using Temperature, Humidity, Wind_Speed, Cloud_Cover, and Pollen as predictor variables.\n",
    "\n",
    "    - a) Is the model good? Justify.\n",
    "    - b) Do all variables have statistical significance? Justify.\n",
    "\n",
    "- Q6. Create another linear regression model.\n",
    "\n",
    "    - a) What was the reason for choosing the predictor variables in the model you created?\n",
    "    - b) Which of the two models is better? Justify.\n",
    "\n",
    "- Q7. Build a logistic regression model to predict Rain.\n",
    "\n",
    "    - a) Is the model good? Justify.\n",
    "    - b) What are the values of `precision` and `recall` for the model?\n",
    "\n",
    "- Q8. Among the linear and logistic regression models created, which one would you choose? Justify.\n",
    "\n",
    "---"
   ]
  },
  {
   "cell_type": "markdown",
   "metadata": {},
   "source": [
    "- Q1. Aponte os valores mínimo e máximo de cada variável:\n",
    "    - a) Temperature.\n",
    "    - b) Humidity."
   ]
  },
  {
   "cell_type": "code",
   "execution_count": null,
   "metadata": {},
   "outputs": [],
   "source": []
  },
  {
   "cell_type": "markdown",
   "metadata": {},
   "source": [
    "- Q2. Quantas observações possui a variável `Rain`? Escolha um gráfico que melhor represente essa informação."
   ]
  },
  {
   "cell_type": "code",
   "execution_count": null,
   "metadata": {},
   "outputs": [],
   "source": []
  },
  {
   "cell_type": "markdown",
   "metadata": {},
   "source": [
    "- Q3. Produza gráficos de dispersão que mostrem a relação entre as variáveis abaixo e indique se há relação linear entre elas. Se houver, indique se é positiva ou negativa:\n",
    "    - a) Temperature x Humidity.\n",
    "    - b) Cloud_Cover x Wind_Speed.\n",
    "    - c) Temperature x Cloud_Cover.\n",
    "    - d) Pressure x Pollen."
   ]
  },
  {
   "cell_type": "code",
   "execution_count": null,
   "metadata": {},
   "outputs": [],
   "source": []
  },
  {
   "cell_type": "markdown",
   "metadata": {},
   "source": [
    "- Q4. Utilize um boxplot para comparar os valores de Temperature em dias com chuva (Rain = \"rain\") e sem chuva (Rain = \"no rain\").\n",
    "    - a) Qual a diferença entre as medianas dos dois grupos?\n",
    "    - b) Como você interpreta os resultados em relação a probabilidade de chuva"
   ]
  },
  {
   "cell_type": "code",
   "execution_count": null,
   "metadata": {},
   "outputs": [],
   "source": []
  },
  {
   "cell_type": "markdown",
   "metadata": {},
   "source": [
    "- Q5. Faça um modelo de regressão linear para prever `Rain` utilizando `Temperature`, `Humidity`, `Wind_Speed`, `Cloud_Cover`, `Pollen` como variáveis preditoras.\n",
    "    - a) O modelo é bom? Justifique.\n",
    "    - b) Todas as variáveis possuem significância estatística? Justifique."
   ]
  },
  {
   "cell_type": "code",
   "execution_count": null,
   "metadata": {},
   "outputs": [],
   "source": []
  },
  {
   "cell_type": "markdown",
   "metadata": {},
   "source": [
    "- Q6 Crie outro modelo de regressão linear.\n",
    "    - a) Qual o motivo de você ter escolhido as variáveis preditoras do modelo criado?\n",
    "    - b) Qual dos dois modelos é melhor? Justifique."
   ]
  },
  {
   "cell_type": "code",
   "execution_count": null,
   "metadata": {},
   "outputs": [],
   "source": []
  },
  {
   "cell_type": "markdown",
   "metadata": {},
   "source": [
    "- Q7. Faça um modelo de regressão logística para prever `Rain`.\n",
    "    - a) O modelo é bom? Justifique.\n",
    "    - b) Quais os valores de `precision` e `recall` para o modelo?"
   ]
  },
  {
   "cell_type": "code",
   "execution_count": null,
   "metadata": {},
   "outputs": [],
   "source": []
  },
  {
   "cell_type": "markdown",
   "metadata": {},
   "source": [
    "- Q8. Dentre os modelos criados para regressão linear e logística, qual deles você escolheria? Justifique."
   ]
  },
  {
   "cell_type": "code",
   "execution_count": null,
   "metadata": {},
   "outputs": [],
   "source": []
  }
 ],
 "metadata": {
  "kernelspec": {
   "display_name": "base",
   "language": "python",
   "name": "python3"
  },
  "language_info": {
   "codemirror_mode": {
    "name": "ipython",
    "version": 3
   },
   "file_extension": ".py",
   "mimetype": "text/x-python",
   "name": "python",
   "nbconvert_exporter": "python",
   "pygments_lexer": "ipython3",
   "version": "3.11.4"
  }
 },
 "nbformat": 4,
 "nbformat_minor": 2
}
