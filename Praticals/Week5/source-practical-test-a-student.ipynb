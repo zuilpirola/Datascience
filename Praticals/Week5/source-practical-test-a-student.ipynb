{
 "cells": [
  {
   "cell_type": "code",
   "execution_count": null,
   "metadata": {},
   "outputs": [],
   "source": [
    "# all of your imports go here\n"
   ]
  },
  {
   "cell_type": "markdown",
   "metadata": {},
   "source": [
    "# Preliminary notes\n",
    "\n",
    "This is a formal evaluation. It accounts for 30% of your final score in the practical component of the Data Science module. Please observe the following rules during the entire evaluation:\n",
    "\n",
    "1. You cannot speak to other students once that evaluation starts.\n",
    "2. There will be 15 minutes at the beginning where you can ask questions, and 5 min in the middle, and another 5 min towards the end of the test. Wait for your professor to indicate when you can ask questions.\n",
    "3. You can only consult the Python documentation site.\n",
    "4. You cannot consult any previous notebooks you created or shared with you.\n",
    "5. All the math formulae you need are included here.\n",
    "6. You can only have your Jupyter Python and a broswer pointing to the Python documentation open. Any other open tabs or apps can invalidate your test.\n",
    "7. Distributing the contents of this test is forbidden.\n"
   ]
  },
  {
   "cell_type": "markdown",
   "metadata": {},
   "source": [
    "# Questions\n",
    "\n",
    "Your goal in this evaluation is to explore a dataset on young people being exposed to advertising of video games that have weapons and fighting in them. There are just three columns: \n",
    "\n",
    "1. `exposure_mins`: how many minutes a person was exposed to the adverts\n",
    "2. `gender`: the person's gender\n",
    "3. `buying_close_score`: a score between 0-100 that indicates how close a person was to buying the game (100 means they bought it)\n",
    "\n",
    "You are required to answer the following questions:\n",
    "\n",
    "Q1. Produce scatter plot for a. Males, b. Females where you can see analytically whether there may be a relationship betwen exposure_mins and buying_close_score\n",
    "\n",
    "Q2. Were boys and girls exposed to the adverts similarly in terms of exposure minutes, use box plots and answer analitically.\n",
    "\n",
    "Q3. Produce a regression model for a pair of variables you think may be related from your analitical analysis.\n",
    "\n",
    "- What are the independent and dependent variables?\n",
    "- Describe the relationship you will study, for example, females watch more adverts\n",
    "- Obtain $\\beta_0$ and $\\beta_1$ using a naive approach or the Python libraries you explored in the lab sessions\n",
    "- Obtain the Confidence Intervals for the two coefficients.\n",
    "\n",
    "Q4. Produce a box plot array with two box plots that show the buying_close_score for a. boys who spent 5 min or less watching adverts and b. those who spent more than 5 min. Interpret your results analytically\n",
    "\n",
    "Q5. Repeat Q4 but for girls. "
   ]
  },
  {
   "cell_type": "code",
   "execution_count": null,
   "metadata": {},
   "outputs": [],
   "source": [
    "# Your code for all the questions must be here\n",
    "\n",
    "# Question 1\n",
    "\n",
    "\n",
    "# Question 2 \n",
    "\n",
    "\n",
    "# Question 3\n",
    "\n",
    "\n",
    "# Question 4\n",
    "\n",
    "\n",
    "# Question 5\n",
    "\n"
   ]
  },
  {
   "cell_type": "markdown",
   "metadata": {},
   "source": [
    "# Evaluation\n",
    "\n",
    "Your teacher will write one or two questions here. You must answer those questions here as well.\n",
    "\n",
    "Teacher question(s):\n",
    "\n"
   ]
  },
  {
   "cell_type": "markdown",
   "metadata": {},
   "source": []
  }
 ],
 "metadata": {
  "language_info": {
   "name": "python"
  }
 },
 "nbformat": 4,
 "nbformat_minor": 2
}
