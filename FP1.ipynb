{
 "cells": [
  {
   "cell_type": "markdown",
   "metadata": {},
   "source": [
    "# Ficha Prática 1\n",
    "\n",
    "Nesta ficha prática faremos uma revisão sobre alguns dos conceitos básicos em Python que serão úteis no decorrer da disciplina. Haverão blocos de código preenchidos como explicação e haverão blocos em branco para que possa praticar. Revisaremos alguns conceitos e portanto caso ja tenha conhecimento sobre determinado comando aproveite a oportunidade para praticar."
   ]
  },
  {
   "cell_type": "markdown",
   "metadata": {},
   "source": [
    "# Prints e Strings"
   ]
  },
  {
   "cell_type": "markdown",
   "metadata": {},
   "source": [
    "Print simples"
   ]
  },
  {
   "cell_type": "code",
   "execution_count": 21,
   "metadata": {},
   "outputs": [
    {
     "name": "stdout",
     "output_type": "stream",
     "text": [
      "Value\n"
     ]
    }
   ],
   "source": [
    "#imprimir a string \"Value\"\n",
    "print(\"Value\")"
   ]
  },
  {
   "cell_type": "markdown",
   "metadata": {},
   "source": [
    "Print de uma variavel"
   ]
  },
  {
   "cell_type": "code",
   "execution_count": 22,
   "metadata": {},
   "outputs": [
    {
     "name": "stdout",
     "output_type": "stream",
     "text": [
      "10\n"
     ]
    }
   ],
   "source": [
    "#cria-se a variavel n e lhe atribui o valor 10\n",
    "n = 10\n",
    "\n",
    "#imprimir o valor contido na variavel n\n",
    "print(n)"
   ]
  },
  {
   "cell_type": "markdown",
   "metadata": {},
   "source": [
    "Print de um texto e uma variavel"
   ]
  },
  {
   "cell_type": "code",
   "execution_count": 23,
   "metadata": {},
   "outputs": [
    {
     "name": "stdout",
     "output_type": "stream",
     "text": [
      "Value = 10\n"
     ]
    }
   ],
   "source": [
    "#imprime o um string e logo em sequencia o valor da variavel n\n",
    "print(\"Value =\",n)"
   ]
  },
  {
   "cell_type": "markdown",
   "metadata": {},
   "source": [
    "Fstring"
   ]
  },
  {
   "cell_type": "code",
   "execution_count": 24,
   "metadata": {},
   "outputs": [
    {
     "name": "stdout",
     "output_type": "stream",
     "text": [
      "Value = 10\n"
     ]
    }
   ],
   "source": [
    "#cria-se a variavel n\n",
    "n = 10\n",
    "#usando fstring para fazer a impressao do valor da variavel n anteriormente declarada. Utiliza-se \"{variavel}\" para indicar o local aonde deseja que a variavel apareça\n",
    "print(f\"Value = {n}\")\n"
   ]
  },
  {
   "cell_type": "markdown",
   "metadata": {},
   "source": [
    "**EXERCICIO 1**: Imprima a variavel abaixo com somente duas casas decimais usando fstring"
   ]
  },
  {
   "cell_type": "code",
   "execution_count": 25,
   "metadata": {},
   "outputs": [
    {
     "name": "stdout",
     "output_type": "stream",
     "text": [
      "\n"
     ]
    }
   ],
   "source": [
    "x = 3.1456746\n",
    "print()"
   ]
  },
  {
   "cell_type": "markdown",
   "metadata": {},
   "source": [
    "# Listas, Matrizes e tuplas"
   ]
  },
  {
   "cell_type": "markdown",
   "metadata": {},
   "source": [
    "Listas são definidas conforme descrito abaixo:\n"
   ]
  },
  {
   "cell_type": "code",
   "execution_count": 28,
   "metadata": {},
   "outputs": [
    {
     "name": "stdout",
     "output_type": "stream",
     "text": [
      "[1, 2, 3, 4, 5]\n"
     ]
    }
   ],
   "source": [
    "#cria-se uma lista utilizando os \"[,]\"\n",
    "list1 = [1,2,3,4,5]\n",
    "#imprime a lista\n",
    "print(list1)"
   ]
  },
  {
   "cell_type": "markdown",
   "metadata": {},
   "source": [
    "Pode-se usar operador (+) em listas:"
   ]
  },
  {
   "cell_type": "code",
   "execution_count": 31,
   "metadata": {},
   "outputs": [
    {
     "name": "stdout",
     "output_type": "stream",
     "text": [
      "[1, 2, 3, 4, 5, 5, 6, 7, 8]\n"
     ]
    }
   ],
   "source": [
    "#cria-se as duas listas\n",
    "list1 = [1,2,3,4,5]\n",
    "list2  = [5,6,7,8]\n",
    "\n",
    "#imprime as duas listas somadas\n",
    "print(list1+list2)\n",
    "#numero 5 se repet. Aparece nas duas listas"
   ]
  },
  {
   "cell_type": "markdown",
   "metadata": {},
   "source": [
    "Nesta disciplina trabalharemos com a biblioteca numpy quando formos usar listas:"
   ]
  },
  {
   "cell_type": "code",
   "execution_count": 64,
   "metadata": {},
   "outputs": [],
   "source": [
    "#importar a biblioteca numpy e lhe atribuir o alias \"np\"\n",
    "import numpy as np"
   ]
  },
  {
   "cell_type": "markdown",
   "metadata": {},
   "source": [
    "Cria-se uma lista em numpy da seguinte forma:"
   ]
  },
  {
   "cell_type": "code",
   "execution_count": 17,
   "metadata": {},
   "outputs": [
    {
     "name": "stdout",
     "output_type": "stream",
     "text": [
      "[1 2 3 4 5]\n"
     ]
    }
   ],
   "source": [
    "#criando uma lista numpy\n",
    "list1 = np.array([1,2,3,4,5])\n",
    "#imprimindo a lista\n",
    "print(list1)"
   ]
  },
  {
   "cell_type": "markdown",
   "metadata": {},
   "source": [
    "Também é possivel converter listas python em listas numpy:"
   ]
  },
  {
   "cell_type": "code",
   "execution_count": 32,
   "metadata": {},
   "outputs": [
    {
     "name": "stdout",
     "output_type": "stream",
     "text": [
      "[1, 2, 3, 4, 5]\n",
      "<class 'list'>\n",
      "----------\n",
      "[1 2 3 4 5]\n",
      "<class 'numpy.ndarray'>\n"
     ]
    }
   ],
   "source": [
    "#Bloco lista python\n",
    "#cria uma lista python\n",
    "list1 = [1,2,3,4,5]\n",
    "#imprime o conteúdo\n",
    "print(list1)\n",
    "#imprime o tipo\n",
    "print(type(list1))\n",
    "\n",
    "#separador\n",
    "print(\"-\"*10)\n",
    "\n",
    "#bloco conversão\n",
    "#converte a list1 em numpy\n",
    "list1_np = np.array(list1)\n",
    "#imprime o conteudo\n",
    "print(list1_np)\n",
    "#imprime o tipo\n",
    "print(type(list1_np))"
   ]
  },
  {
   "cell_type": "markdown",
   "metadata": {},
   "source": [
    "Trabalhar com listas numpy é mais rápido e ainda possuem os diversos atributos numpy.array:"
   ]
  },
  {
   "cell_type": "code",
   "execution_count": 46,
   "metadata": {},
   "outputs": [
    {
     "name": "stdout",
     "output_type": "stream",
     "text": [
      "Numero de dimensões: 1\n",
      "Forma: (5,)\n",
      "Valor Maximo: 5\n",
      "Valor Minimo: 1\n",
      "Soma: 15\n"
     ]
    }
   ],
   "source": [
    "#cria lista\n",
    "list1 = np.array([1,3,2,5,4])\n",
    "#a partir daqui para acessar os atributos basta colocar list1.(....)\n",
    "print(f\"Numero de dimensões: {list1.ndim}\")\n",
    "print(f\"Forma: {list1.shape}\") \n",
    "print(f\"Valor Maximo: {list1.max()}\")\n",
    "print(f\"Valor Minimo: {list1.min()}\")\n",
    "print(f\"Soma: {list1.sum()}\")"
   ]
  },
  {
   "cell_type": "markdown",
   "metadata": {},
   "source": [
    "**EXERCICIO 2**: Crie uma matrix (lista de lista), de shape (3,2). Tal como o bloco acima calcule: numero de dimensões, shape, valor máximo, valor minimo e soma."
   ]
  },
  {
   "cell_type": "code",
   "execution_count": null,
   "metadata": {},
   "outputs": [],
   "source": []
  },
  {
   "cell_type": "markdown",
   "metadata": {},
   "source": [
    "A forma ou o shape de uma lista ou matriz pode ser modificada pelo método reshape()"
   ]
  },
  {
   "cell_type": "code",
   "execution_count": 59,
   "metadata": {},
   "outputs": [
    {
     "name": "stdout",
     "output_type": "stream",
     "text": [
      "Original: [1 3 2 5 4 6]\n",
      "(6,)\n",
      "\n",
      "Reshaped: [[1 3 2]\n",
      " [5 4 6]]\n",
      "(2, 3)\n",
      "\n",
      "Igual a Original: [1 3 2 5 4 6]\n",
      "(6,)\n"
     ]
    }
   ],
   "source": [
    "#cria lista\n",
    "list1 = np.array([1,3,2,5,4,6])\n",
    "print(\"Original:\",list1)\n",
    "print(list1.shape)\n",
    "print()\n",
    "\n",
    "#fazes o reshape dela para o formato (2,3)\n",
    "list1_reshaped = list1.reshape((2,3))\n",
    "print(\"Reshaped:\",list1_reshaped)\n",
    "print(list1_reshaped.shape)\n",
    "print()\n",
    "\n",
    "#faz o reshape novamente para que tenha somente 1 linha\n",
    "list1_reshaped = list1_reshaped.reshape((6))\n",
    "print(\"Igual a Original:\",list1_reshaped)\n",
    "print(list1_reshaped.shape)"
   ]
  },
  {
   "cell_type": "markdown",
   "metadata": {},
   "source": [
    "**EXERCICIO 3**: Faça o reshape da matriz abaixo para (3,2)."
   ]
  },
  {
   "cell_type": "code",
   "execution_count": 60,
   "metadata": {},
   "outputs": [],
   "source": [
    "list1 = np.array([1,3,2,5,4])\n",
    "list1_reshaped = ...."
   ]
  },
  {
   "cell_type": "markdown",
   "metadata": {},
   "source": [
    "Para acessar um endereço de um item de uma lista usa-se:"
   ]
  },
  {
   "cell_type": "code",
   "execution_count": 61,
   "metadata": {},
   "outputs": [
    {
     "name": "stdout",
     "output_type": "stream",
     "text": [
      "5\n"
     ]
    }
   ],
   "source": [
    "list1 = np.array([1,3,2,5,4,6])\n",
    "print(list1[3])"
   ]
  },
  {
   "cell_type": "markdown",
   "metadata": {},
   "source": [
    "**EXERCICIO 4**: Dada a matriz abaixo retorne o endereço do maior número"
   ]
  },
  {
   "cell_type": "code",
   "execution_count": 69,
   "metadata": {},
   "outputs": [
    {
     "name": "stdout",
     "output_type": "stream",
     "text": [
      "5\n"
     ]
    }
   ],
   "source": [
    "list1 = np.array([[1,3,2],[4,5,6],[6,0,2]])\n",
    "print(np.argmax(list1))\n",
    "\n",
    "# for...."
   ]
  },
  {
   "cell_type": "code",
   "execution_count": null,
   "metadata": {},
   "outputs": [],
   "source": []
  }
 ],
 "metadata": {
  "kernelspec": {
   "display_name": "AURC",
   "language": "python",
   "name": "python3"
  },
  "language_info": {
   "codemirror_mode": {
    "name": "ipython",
    "version": 3
   },
   "file_extension": ".py",
   "mimetype": "text/x-python",
   "name": "python",
   "nbconvert_exporter": "python",
   "pygments_lexer": "ipython3",
   "version": "3.10.8"
  },
  "orig_nbformat": 4
 },
 "nbformat": 4,
 "nbformat_minor": 2
}
