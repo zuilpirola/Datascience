{
  "cells": [
    {
      "cell_type": "code",
      "execution_count": null,
      "metadata": {
        "id": "nsdTUhgRyiSi"
      },
      "outputs": [],
      "source": [
        "# all of your imports go here\n",
        "import pandas as pd\n",
        "import statsmodels.api as sm\n",
        "import statsmodels.formula.api as smf\n",
        "import matplotlib.pyplot as plt\n",
        "from matplotlib import cm\n",
        "import numpy as np\n",
        "import math\n"
      ]
    },
    {
      "cell_type": "markdown",
      "metadata": {
        "id": "qEw0Gw7ZyiSj"
      },
      "source": [
        "# Preliminary notes\n",
        "\n",
        "This is a formal evaluation. It accounts for 30% of your final score in the practical component of the Data Science module. Please observe the following rules during the entire evaluation:\n",
        "\n",
        "1. You cannot speak to other students once that evaluation starts.\n",
        "2. There will be 15 minutes at the beginning where you can ask questions, and 5 min in the middle, and another 5 min towards the end of the test. Wait for your professor to indicate when you can ask questions.\n",
        "3. You can only consult the Python documentation site.\n",
        "4. You cannot consult any previous notebooks you created or shared with you.\n",
        "5. All the math formulae you need are included here.\n",
        "6. You can only have your Jupyter Python and a broswer pointing to the Python documentation open. Any other open tabs or apps can invalidate your test.\n",
        "7. Distributing the contents of this test is forbidden.\n"
      ]
    },
    {
      "cell_type": "markdown",
      "metadata": {
        "id": "wEmMReQcyiSk"
      },
      "source": [
        "# Questions\n",
        "\n",
        "Your goal in this evaluation is to explore a dataset on people being exposed to advertising of video games that have weapons and fighting in them. There are just five columns:\n",
        "\n",
        "1. `exposure_mins`: how many minutes a person was exposed to the adverts\n",
        "2. `gender`: the person's gender\n",
        "3. `buying_close_score`: a score between 0-100 that indicates how close a person was to buying the game (100 means they bought it)\n",
        "4. `class`: 1 for student, 2 for higher education, and 3 for unemployed.\n",
        "5. `age`: the person's age\n",
        "\n",
        "You are required to answer the following questions:\n",
        "\n",
        "Q1. Produce scatter plot for a. Males, b. Females where you can see analytically whether there may be a relationship betwen exposure_mins and buying_close_score\n",
        "\n",
        "Q2. Were male and female exposed to the adverts similarly in terms of exposure minutes, use box plots and answer analitically.\n",
        "\n",
        "Q3. Perform a linear regression using the variables from the dataframe to address the following question:\n",
        "\n",
        "- What are the independent and dependent variables do you suggest?\n",
        "- Describe the relationship you will study, for example, females watch more adverts\n",
        "- Obtain coeficients of independent variables using a naive approach or the Python libraries you explored in the lab sessions\n",
        "- Obtain the Confidence Intervals for the two coefficients.\n",
        "\n",
        "Q4. Produce a box plot array with two box plots that show the buying_close_score for a. male who spent 5 min or less watching adverts and b. those who spent more than 5 min. Interpret your results analytically\n",
        "\n",
        "Q5. Repeat Q4 but for female.\n",
        "\n",
        "Q6. Is there any relationship between the variable class and buying_close_score? How do you justify your answer?\n"
      ]
    },
    {
      "cell_type": "markdown",
      "source": [
        "### Perguntas\n",
        "\n",
        "O objetivo desta avaliação é explorar um conjunto de dados sobre pessoas expostas a publicidade de videojogos que incluem armas e luta. O conjunto de dados possui apenas cinco colunas:\n",
        "\n",
        "- **exposure_mins**: o número de minutos que uma pessoa esteve exposta aos anúncios.  \n",
        "- **gender**: o género da pessoa.  \n",
        "- **buying_close_score**: uma pontuação entre 0 e 100 que indica quão próxima a pessoa esteve de comprar o jogo (100 significa que comprou).  \n",
        "- **class**: 1 para estudante, 2 para ensino superior, e 3 para desempregado.  \n",
        "- **age**: a idade da pessoa.  \n",
        "\n",
        "É necessário responder às seguintes questões:\n",
        "\n",
        "**Q1.** Produza um gráfico de dispersão para:\n",
        "  - a) Homens  \n",
        "  - b) Mulheres  \n",
        "  Onde se possa analisar se existe uma relação entre **exposure_mins** e **buying_close_score**.\n",
        "\n",
        "**Q2.** Homens e mulheres foram expostos aos anúncios de forma semelhante em termos de minutos de exposição? Utilize gráficos de caixa (boxplots) e analise os resultados.\n",
        "\n",
        "**Q3.** Realize uma regressão linear utilizando as variáveis do conjunto de dados para responder à seguinte questão:  \n",
        "  - Quais são as variáveis independentes e dependentes que sugere?  \n",
        "  - Descreva a relação que irá estudar, por exemplo: *as mulheres assistem mais anúncios*.  \n",
        "  - Obtenha os coeficientes das variáveis independentes usando uma abordagem ingênua ou bibliotecas Python exploradas nas sessões de laboratório.  \n",
        "  - Obtenha os intervalos de confiança para os dois coeficientes.\n",
        "\n",
        "**Q4.** Produza um array de gráficos de caixa (boxplots) com dois gráficos que mostrem o **buying_close_score** para:\n",
        "  - a) Homens que passaram 5 minutos ou menos a assistir aos anúncios.  \n",
        "  - b) Homens que passaram mais de 5 minutos.  \n",
        "  Interprete os resultados analiticamente.\n",
        "\n",
        "**Q5.** Repita a questão anterior, mas para mulheres.\n",
        "\n",
        "**Q6.** Existe alguma relação entre a variável **class** e **buying_close_score**? Como justifica a sua resposta?"
      ],
      "metadata": {
        "id": "lHxwm-_MPM6X"
      }
    },
    {
      "cell_type": "code",
      "execution_count": null,
      "metadata": {
        "id": "-6ah421qyiSk"
      },
      "outputs": [],
      "source": [
        "# Your code for all the questions must be here\n",
        "\n",
        "# Question 1\n",
        "\n",
        "\n",
        "# Question 2\n",
        "\n",
        "\n",
        "# Question 3\n",
        "\n",
        "\n",
        "# Question 4\n",
        "\n",
        "\n",
        "# Question 5\n",
        "\n"
      ]
    }
  ],
  "metadata": {
    "language_info": {
      "name": "python"
    },
    "colab": {
      "provenance": []
    }
  },
  "nbformat": 4,
  "nbformat_minor": 0
}